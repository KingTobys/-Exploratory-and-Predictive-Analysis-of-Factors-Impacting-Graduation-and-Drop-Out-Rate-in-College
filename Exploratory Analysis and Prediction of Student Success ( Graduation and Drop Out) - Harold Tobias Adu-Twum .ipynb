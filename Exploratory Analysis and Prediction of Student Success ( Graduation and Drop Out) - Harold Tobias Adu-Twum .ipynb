{
 "cells": [
  {
   "cell_type": "markdown",
   "id": "e0ba4474",
   "metadata": {
    "papermill": {
     "duration": 0.03629,
     "end_time": "2023-08-21T04:37:03.112092",
     "exception": false,
     "start_time": "2023-08-21T04:37:03.075802",
     "status": "completed"
    },
    "tags": []
   },
   "source": [
    "# Introduction\n",
    "Higher education institutions aim to prepare students for successful careers and contribute highly qualified professionals to society. However, challenges exist, with only 33.7% of individuals aged 25 and above in the U.S. holding a bachelor's degree or higher (US Census Bureau, 2022). Student dropout rates, a significant issue, impact over half of enrolled students (Kantrowitz, 2021). Timely intervention for at-risk students and the use of machine learning models can enhance success. In this analysis, using a Kaggle dataset by Kancharla Naveen Kumar, I'll explore factors influencing student success and employ machine learning models like Logistic Regression to predict potential dropouts.\n"
   ]
  },
  {
   "cell_type": "markdown",
   "id": "a54c1ba7",
   "metadata": {
    "papermill": {
     "duration": 0.035684,
     "end_time": "2023-08-21T04:37:03.262111",
     "exception": false,
     "start_time": "2023-08-21T04:37:03.226427",
     "status": "completed"
    },
    "tags": []
   },
   "source": [
    "## Date & Time"
   ]
  },
  {
   "cell_type": "code",
   "execution_count": 457,
   "id": "a1436958",
   "metadata": {
    "execution": {
     "iopub.execute_input": "2023-08-21T04:37:03.332139Z",
     "iopub.status.busy": "2023-08-21T04:37:03.330736Z",
     "iopub.status.idle": "2023-08-21T04:37:03.343027Z",
     "shell.execute_reply": "2023-08-21T04:37:03.342136Z"
    },
    "papermill": {
     "duration": 0.049527,
     "end_time": "2023-08-21T04:37:03.345047",
     "exception": false,
     "start_time": "2023-08-21T04:37:03.295520",
     "status": "completed"
    },
    "tags": []
   },
   "outputs": [
    {
     "name": "stdout",
     "output_type": "stream",
     "text": [
      "Analysis on 2023-11-27 at 18:36 PM\n"
     ]
    }
   ],
   "source": [
    "from datetime import datetime as dt \n",
    "now = dt.now()\n",
    "print(\"Analysis on\", now.strftime('%Y-%m-%d'), \"at\", now.strftime('%H:%M %p'))"
   ]
  },
  {
   "cell_type": "markdown",
   "id": "04d27476",
   "metadata": {
    "papermill": {
     "duration": 0.033688,
     "end_time": "2023-08-21T04:37:03.563883",
     "exception": false,
     "start_time": "2023-08-21T04:37:03.530195",
     "status": "completed"
    },
    "tags": []
   },
   "source": [
    "## Import Libraries"
   ]
  },
  {
   "cell_type": "markdown",
   "id": "efbeeaec",
   "metadata": {
    "papermill": {
     "duration": 0.032127,
     "end_time": "2023-08-21T04:37:03.629878",
     "exception": false,
     "start_time": "2023-08-21T04:37:03.597751",
     "status": "completed"
    },
    "tags": []
   },
   "source": [
    "Importing the following standard libraries to support the analysis. Sklearn libraries will be imported when new models are introduced."
   ]
  },
  {
   "cell_type": "code",
   "execution_count": 458,
   "id": "31c1e823",
   "metadata": {
    "execution": {
     "iopub.execute_input": "2023-08-21T04:37:03.699315Z",
     "iopub.status.busy": "2023-08-21T04:37:03.698721Z",
     "iopub.status.idle": "2023-08-21T04:37:05.158160Z",
     "shell.execute_reply": "2023-08-21T04:37:05.156346Z"
    },
    "papermill": {
     "duration": 1.496027,
     "end_time": "2023-08-21T04:37:05.160942",
     "exception": false,
     "start_time": "2023-08-21T04:37:03.664915",
     "status": "completed"
    },
    "tags": []
   },
   "outputs": [],
   "source": [
    "import pandas as pd\n",
    "import numpy as np\n",
    "import seaborn as sns\n",
    "import matplotlib.pyplot as plt\n",
    "%matplotlib inline\n",
    "\n",
    "import warnings\n",
    "# Used to ignore warning messages about future deprecations and improve readability\n",
    "warnings.filterwarnings('ignore') "
   ]
  },
  {
   "cell_type": "markdown",
   "id": "ec688adb",
   "metadata": {
    "papermill": {
     "duration": 0.034361,
     "end_time": "2023-08-21T04:37:05.231731",
     "exception": false,
     "start_time": "2023-08-21T04:37:05.197370",
     "status": "completed"
    },
    "tags": []
   },
   "source": [
    "# About the Data"
   ]
  },
  {
   "cell_type": "markdown",
   "id": "a6663912",
   "metadata": {
    "papermill": {
     "duration": 0.032699,
     "end_time": "2023-08-21T04:37:05.297479",
     "exception": false,
     "start_time": "2023-08-21T04:37:05.264780",
     "status": "completed"
    },
    "tags": []
   },
   "source": [
    "## Description"
   ]
  },
  {
   "cell_type": "markdown",
   "id": "38048e13",
   "metadata": {
    "papermill": {
     "duration": 0.034132,
     "end_time": "2023-08-21T04:37:05.366065",
     "exception": false,
     "start_time": "2023-08-21T04:37:05.331933",
     "status": "completed"
    },
    "tags": []
   },
   "source": [
    "This dataset created from a higher education institution (acquired from several disjoint databases) related to students enrolled in different undergraduate degrees, such as agronomy, design, education, nursing, journalism, management, social service, and technologies. The dataset includes information known at the time of student enrollment (academic path, demographics, and social-economic factors) and the students' academic performance at the end of the first and second semesters. The data is used to build classification models to predict students' dropout and academic success. The problem is formulated as a three-category classification task, in which there is a strong imbalance towards one of the classes."
   ]
  },
  {
   "cell_type": "markdown",
   "id": "28573067",
   "metadata": {
    "papermill": {
     "duration": 0.033364,
     "end_time": "2023-08-21T04:37:05.433649",
     "exception": false,
     "start_time": "2023-08-21T04:37:05.400285",
     "status": "completed"
    },
    "tags": []
   },
   "source": [
    "Data Source: https://www.kaggle.com/datasets/naveenkumar20bps1137/predict-students-dropout-and-academic-success?select=dataset.csv\n",
    "\n",
    "License: CC0: Public Domain"
   ]
  },
  {
   "cell_type": "markdown",
   "id": "81e1a660",
   "metadata": {
    "papermill": {
     "duration": 0.032758,
     "end_time": "2023-08-21T04:37:05.499434",
     "exception": false,
     "start_time": "2023-08-21T04:37:05.466676",
     "status": "completed"
    },
    "tags": []
   },
   "source": [
    "## Import Data"
   ]
  },
  {
   "cell_type": "code",
   "execution_count": 600,
   "id": "b449be13",
   "metadata": {
    "execution": {
     "iopub.execute_input": "2023-08-21T04:37:05.568871Z",
     "iopub.status.busy": "2023-08-21T04:37:05.567641Z",
     "iopub.status.idle": "2023-08-21T04:37:05.642737Z",
     "shell.execute_reply": "2023-08-21T04:37:05.641957Z"
    },
    "papermill": {
     "duration": 0.110422,
     "end_time": "2023-08-21T04:37:05.644569",
     "exception": false,
     "start_time": "2023-08-21T04:37:05.534147",
     "status": "completed"
    },
    "tags": []
   },
   "outputs": [
    {
     "data": {
      "text/html": [
       "<div>\n",
       "<style scoped>\n",
       "    .dataframe tbody tr th:only-of-type {\n",
       "        vertical-align: middle;\n",
       "    }\n",
       "\n",
       "    .dataframe tbody tr th {\n",
       "        vertical-align: top;\n",
       "    }\n",
       "\n",
       "    .dataframe thead th {\n",
       "        text-align: right;\n",
       "    }\n",
       "</style>\n",
       "<table border=\"1\" class=\"dataframe\">\n",
       "  <thead>\n",
       "    <tr style=\"text-align: right;\">\n",
       "      <th></th>\n",
       "      <th>Marital status</th>\n",
       "      <th>Application mode</th>\n",
       "      <th>Application order</th>\n",
       "      <th>Course</th>\n",
       "      <th>Daytime/evening attendance</th>\n",
       "      <th>Previous qualification</th>\n",
       "      <th>Nacionality</th>\n",
       "      <th>Mother's qualification</th>\n",
       "      <th>Father's qualification</th>\n",
       "      <th>Mother's occupation</th>\n",
       "      <th>Father's occupation</th>\n",
       "      <th>Displaced</th>\n",
       "      <th>Educational special needs</th>\n",
       "      <th>Debtor</th>\n",
       "      <th>Tuition fees up to date</th>\n",
       "      <th>Gender</th>\n",
       "      <th>Scholarship holder</th>\n",
       "      <th>Age at enrollment</th>\n",
       "      <th>International</th>\n",
       "      <th>Curricular units 1st sem (credited)</th>\n",
       "      <th>Curricular units 1st sem (enrolled)</th>\n",
       "      <th>Curricular units 1st sem (evaluations)</th>\n",
       "      <th>Curricular units 1st sem (approved)</th>\n",
       "      <th>Curricular units 1st sem (grade)</th>\n",
       "      <th>Curricular units 1st sem (without evaluations)</th>\n",
       "      <th>Curricular units 2nd sem (credited)</th>\n",
       "      <th>Curricular units 2nd sem (enrolled)</th>\n",
       "      <th>Curricular units 2nd sem (evaluations)</th>\n",
       "      <th>Curricular units 2nd sem (approved)</th>\n",
       "      <th>Curricular units 2nd sem (grade)</th>\n",
       "      <th>Curricular units 2nd sem (without evaluations)</th>\n",
       "      <th>Unemployment rate</th>\n",
       "      <th>Inflation rate</th>\n",
       "      <th>GDP</th>\n",
       "      <th>Target</th>\n",
       "    </tr>\n",
       "  </thead>\n",
       "  <tbody>\n",
       "    <tr>\n",
       "      <th>0</th>\n",
       "      <td>1</td>\n",
       "      <td>8</td>\n",
       "      <td>5</td>\n",
       "      <td>2</td>\n",
       "      <td>1</td>\n",
       "      <td>1</td>\n",
       "      <td>1</td>\n",
       "      <td>13</td>\n",
       "      <td>10</td>\n",
       "      <td>6</td>\n",
       "      <td>10</td>\n",
       "      <td>1</td>\n",
       "      <td>0</td>\n",
       "      <td>0</td>\n",
       "      <td>1</td>\n",
       "      <td>1</td>\n",
       "      <td>0</td>\n",
       "      <td>20</td>\n",
       "      <td>0</td>\n",
       "      <td>0</td>\n",
       "      <td>0</td>\n",
       "      <td>0</td>\n",
       "      <td>0</td>\n",
       "      <td>0.00000</td>\n",
       "      <td>0</td>\n",
       "      <td>0</td>\n",
       "      <td>0</td>\n",
       "      <td>0</td>\n",
       "      <td>0</td>\n",
       "      <td>0.00000</td>\n",
       "      <td>0</td>\n",
       "      <td>10.8</td>\n",
       "      <td>1.4</td>\n",
       "      <td>1.74</td>\n",
       "      <td>Dropout</td>\n",
       "    </tr>\n",
       "    <tr>\n",
       "      <th>1</th>\n",
       "      <td>1</td>\n",
       "      <td>6</td>\n",
       "      <td>1</td>\n",
       "      <td>11</td>\n",
       "      <td>1</td>\n",
       "      <td>1</td>\n",
       "      <td>1</td>\n",
       "      <td>1</td>\n",
       "      <td>3</td>\n",
       "      <td>4</td>\n",
       "      <td>4</td>\n",
       "      <td>1</td>\n",
       "      <td>0</td>\n",
       "      <td>0</td>\n",
       "      <td>0</td>\n",
       "      <td>1</td>\n",
       "      <td>0</td>\n",
       "      <td>19</td>\n",
       "      <td>0</td>\n",
       "      <td>0</td>\n",
       "      <td>6</td>\n",
       "      <td>6</td>\n",
       "      <td>6</td>\n",
       "      <td>14.00000</td>\n",
       "      <td>0</td>\n",
       "      <td>0</td>\n",
       "      <td>6</td>\n",
       "      <td>6</td>\n",
       "      <td>6</td>\n",
       "      <td>13.66667</td>\n",
       "      <td>0</td>\n",
       "      <td>13.9</td>\n",
       "      <td>-0.3</td>\n",
       "      <td>0.79</td>\n",
       "      <td>Graduate</td>\n",
       "    </tr>\n",
       "    <tr>\n",
       "      <th>2</th>\n",
       "      <td>1</td>\n",
       "      <td>1</td>\n",
       "      <td>5</td>\n",
       "      <td>5</td>\n",
       "      <td>1</td>\n",
       "      <td>1</td>\n",
       "      <td>1</td>\n",
       "      <td>22</td>\n",
       "      <td>27</td>\n",
       "      <td>10</td>\n",
       "      <td>10</td>\n",
       "      <td>1</td>\n",
       "      <td>0</td>\n",
       "      <td>0</td>\n",
       "      <td>0</td>\n",
       "      <td>1</td>\n",
       "      <td>0</td>\n",
       "      <td>19</td>\n",
       "      <td>0</td>\n",
       "      <td>0</td>\n",
       "      <td>6</td>\n",
       "      <td>0</td>\n",
       "      <td>0</td>\n",
       "      <td>0.00000</td>\n",
       "      <td>0</td>\n",
       "      <td>0</td>\n",
       "      <td>6</td>\n",
       "      <td>0</td>\n",
       "      <td>0</td>\n",
       "      <td>0.00000</td>\n",
       "      <td>0</td>\n",
       "      <td>10.8</td>\n",
       "      <td>1.4</td>\n",
       "      <td>1.74</td>\n",
       "      <td>Dropout</td>\n",
       "    </tr>\n",
       "    <tr>\n",
       "      <th>3</th>\n",
       "      <td>1</td>\n",
       "      <td>8</td>\n",
       "      <td>2</td>\n",
       "      <td>15</td>\n",
       "      <td>1</td>\n",
       "      <td>1</td>\n",
       "      <td>1</td>\n",
       "      <td>23</td>\n",
       "      <td>27</td>\n",
       "      <td>6</td>\n",
       "      <td>4</td>\n",
       "      <td>1</td>\n",
       "      <td>0</td>\n",
       "      <td>0</td>\n",
       "      <td>1</td>\n",
       "      <td>0</td>\n",
       "      <td>0</td>\n",
       "      <td>20</td>\n",
       "      <td>0</td>\n",
       "      <td>0</td>\n",
       "      <td>6</td>\n",
       "      <td>8</td>\n",
       "      <td>6</td>\n",
       "      <td>13.42857</td>\n",
       "      <td>0</td>\n",
       "      <td>0</td>\n",
       "      <td>6</td>\n",
       "      <td>10</td>\n",
       "      <td>5</td>\n",
       "      <td>12.40000</td>\n",
       "      <td>0</td>\n",
       "      <td>9.4</td>\n",
       "      <td>-0.8</td>\n",
       "      <td>-3.12</td>\n",
       "      <td>Graduate</td>\n",
       "    </tr>\n",
       "    <tr>\n",
       "      <th>4</th>\n",
       "      <td>2</td>\n",
       "      <td>12</td>\n",
       "      <td>1</td>\n",
       "      <td>3</td>\n",
       "      <td>0</td>\n",
       "      <td>1</td>\n",
       "      <td>1</td>\n",
       "      <td>22</td>\n",
       "      <td>28</td>\n",
       "      <td>10</td>\n",
       "      <td>10</td>\n",
       "      <td>0</td>\n",
       "      <td>0</td>\n",
       "      <td>0</td>\n",
       "      <td>1</td>\n",
       "      <td>0</td>\n",
       "      <td>0</td>\n",
       "      <td>45</td>\n",
       "      <td>0</td>\n",
       "      <td>0</td>\n",
       "      <td>6</td>\n",
       "      <td>9</td>\n",
       "      <td>5</td>\n",
       "      <td>12.33333</td>\n",
       "      <td>0</td>\n",
       "      <td>0</td>\n",
       "      <td>6</td>\n",
       "      <td>6</td>\n",
       "      <td>6</td>\n",
       "      <td>13.00000</td>\n",
       "      <td>0</td>\n",
       "      <td>13.9</td>\n",
       "      <td>-0.3</td>\n",
       "      <td>0.79</td>\n",
       "      <td>Graduate</td>\n",
       "    </tr>\n",
       "  </tbody>\n",
       "</table>\n",
       "</div>"
      ],
      "text/plain": [
       "   Marital status  Application mode  Application order  Course  \\\n",
       "0               1                 8                  5       2   \n",
       "1               1                 6                  1      11   \n",
       "2               1                 1                  5       5   \n",
       "3               1                 8                  2      15   \n",
       "4               2                12                  1       3   \n",
       "\n",
       "   Daytime/evening attendance  Previous qualification  Nacionality  \\\n",
       "0                           1                       1            1   \n",
       "1                           1                       1            1   \n",
       "2                           1                       1            1   \n",
       "3                           1                       1            1   \n",
       "4                           0                       1            1   \n",
       "\n",
       "   Mother's qualification  Father's qualification  Mother's occupation  \\\n",
       "0                      13                      10                    6   \n",
       "1                       1                       3                    4   \n",
       "2                      22                      27                   10   \n",
       "3                      23                      27                    6   \n",
       "4                      22                      28                   10   \n",
       "\n",
       "   Father's occupation  Displaced  Educational special needs  Debtor  \\\n",
       "0                   10          1                          0       0   \n",
       "1                    4          1                          0       0   \n",
       "2                   10          1                          0       0   \n",
       "3                    4          1                          0       0   \n",
       "4                   10          0                          0       0   \n",
       "\n",
       "   Tuition fees up to date  Gender  Scholarship holder  Age at enrollment  \\\n",
       "0                        1       1                   0                 20   \n",
       "1                        0       1                   0                 19   \n",
       "2                        0       1                   0                 19   \n",
       "3                        1       0                   0                 20   \n",
       "4                        1       0                   0                 45   \n",
       "\n",
       "   International  Curricular units 1st sem (credited)  \\\n",
       "0              0                                    0   \n",
       "1              0                                    0   \n",
       "2              0                                    0   \n",
       "3              0                                    0   \n",
       "4              0                                    0   \n",
       "\n",
       "   Curricular units 1st sem (enrolled)  \\\n",
       "0                                    0   \n",
       "1                                    6   \n",
       "2                                    6   \n",
       "3                                    6   \n",
       "4                                    6   \n",
       "\n",
       "   Curricular units 1st sem (evaluations)  \\\n",
       "0                                       0   \n",
       "1                                       6   \n",
       "2                                       0   \n",
       "3                                       8   \n",
       "4                                       9   \n",
       "\n",
       "   Curricular units 1st sem (approved)  Curricular units 1st sem (grade)  \\\n",
       "0                                    0                           0.00000   \n",
       "1                                    6                          14.00000   \n",
       "2                                    0                           0.00000   \n",
       "3                                    6                          13.42857   \n",
       "4                                    5                          12.33333   \n",
       "\n",
       "   Curricular units 1st sem (without evaluations)  \\\n",
       "0                                               0   \n",
       "1                                               0   \n",
       "2                                               0   \n",
       "3                                               0   \n",
       "4                                               0   \n",
       "\n",
       "   Curricular units 2nd sem (credited)  Curricular units 2nd sem (enrolled)  \\\n",
       "0                                    0                                    0   \n",
       "1                                    0                                    6   \n",
       "2                                    0                                    6   \n",
       "3                                    0                                    6   \n",
       "4                                    0                                    6   \n",
       "\n",
       "   Curricular units 2nd sem (evaluations)  \\\n",
       "0                                       0   \n",
       "1                                       6   \n",
       "2                                       0   \n",
       "3                                      10   \n",
       "4                                       6   \n",
       "\n",
       "   Curricular units 2nd sem (approved)  Curricular units 2nd sem (grade)  \\\n",
       "0                                    0                           0.00000   \n",
       "1                                    6                          13.66667   \n",
       "2                                    0                           0.00000   \n",
       "3                                    5                          12.40000   \n",
       "4                                    6                          13.00000   \n",
       "\n",
       "   Curricular units 2nd sem (without evaluations)  Unemployment rate  \\\n",
       "0                                               0               10.8   \n",
       "1                                               0               13.9   \n",
       "2                                               0               10.8   \n",
       "3                                               0                9.4   \n",
       "4                                               0               13.9   \n",
       "\n",
       "   Inflation rate   GDP    Target  \n",
       "0             1.4  1.74   Dropout  \n",
       "1            -0.3  0.79  Graduate  \n",
       "2             1.4  1.74   Dropout  \n",
       "3            -0.8 -3.12  Graduate  \n",
       "4            -0.3  0.79  Graduate  "
      ]
     },
     "execution_count": 600,
     "metadata": {},
     "output_type": "execute_result"
    }
   ],
   "source": [
    "df = pd.read_csv('/Users/tobias/Downloads/dataset.csv')\n",
    "df.head()"
   ]
  },
  {
   "cell_type": "markdown",
   "id": "bee07fb8",
   "metadata": {
    "papermill": {
     "duration": 0.034051,
     "end_time": "2023-08-21T04:37:05.712837",
     "exception": false,
     "start_time": "2023-08-21T04:37:05.678786",
     "status": "completed"
    },
    "tags": []
   },
   "source": [
    "View the dimensions of the data"
   ]
  },
  {
   "cell_type": "code",
   "execution_count": 569,
   "id": "8685ea35",
   "metadata": {
    "execution": {
     "iopub.execute_input": "2023-08-21T04:37:05.782693Z",
     "iopub.status.busy": "2023-08-21T04:37:05.782287Z",
     "iopub.status.idle": "2023-08-21T04:37:05.788720Z",
     "shell.execute_reply": "2023-08-21T04:37:05.787354Z"
    },
    "papermill": {
     "duration": 0.044526,
     "end_time": "2023-08-21T04:37:05.791358",
     "exception": false,
     "start_time": "2023-08-21T04:37:05.746832",
     "status": "completed"
    },
    "tags": []
   },
   "outputs": [
    {
     "data": {
      "text/plain": [
       "(4424, 35)"
      ]
     },
     "execution_count": 569,
     "metadata": {},
     "output_type": "execute_result"
    }
   ],
   "source": [
    "df.shape"
   ]
  },
  {
   "cell_type": "markdown",
   "id": "709327f6",
   "metadata": {
    "papermill": {
     "duration": 0.035003,
     "end_time": "2023-08-21T04:37:05.859849",
     "exception": false,
     "start_time": "2023-08-21T04:37:05.824846",
     "status": "completed"
    },
    "tags": []
   },
   "source": [
    "The data frame contains 4,424 rows and 35 columns."
   ]
  },
  {
   "cell_type": "markdown",
   "id": "3bee1423",
   "metadata": {
    "papermill": {
     "duration": 0.033457,
     "end_time": "2023-08-21T04:37:05.928269",
     "exception": false,
     "start_time": "2023-08-21T04:37:05.894812",
     "status": "completed"
    },
    "tags": []
   },
   "source": [
    "# Preprocessing"
   ]
  },
  {
   "cell_type": "markdown",
   "id": "0a02789c",
   "metadata": {
    "papermill": {
     "duration": 0.033289,
     "end_time": "2023-08-21T04:37:05.995766",
     "exception": false,
     "start_time": "2023-08-21T04:37:05.962477",
     "status": "completed"
    },
    "tags": []
   },
   "source": [
    "Renaming column from 'Nacionality' to 'Nationality':"
   ]
  },
  {
   "cell_type": "code",
   "execution_count": 601,
   "id": "abc2df71",
   "metadata": {
    "execution": {
     "iopub.execute_input": "2023-08-21T04:37:06.067082Z",
     "iopub.status.busy": "2023-08-21T04:37:06.066678Z",
     "iopub.status.idle": "2023-08-21T04:37:06.075505Z",
     "shell.execute_reply": "2023-08-21T04:37:06.073739Z"
    },
    "papermill": {
     "duration": 0.04776,
     "end_time": "2023-08-21T04:37:06.078238",
     "exception": false,
     "start_time": "2023-08-21T04:37:06.030478",
     "status": "completed"
    },
    "tags": []
   },
   "outputs": [],
   "source": [
    "df.rename(columns={'Nacionality': 'Nationality'}, inplace=True)"
   ]
  },
  {
   "cell_type": "code",
   "execution_count": 602,
   "id": "8086c0d6",
   "metadata": {},
   "outputs": [],
   "source": [
    "df.rename(columns={'Target': 'Status'}, inplace=True)"
   ]
  },
  {
   "cell_type": "code",
   "execution_count": 603,
   "id": "86e78dc6",
   "metadata": {},
   "outputs": [],
   "source": [
    "df['Status_binary'] = df['Status'].map({'Dropout': 0, 'Graduate': 1, 'Enrolled': 2})"
   ]
  },
  {
   "cell_type": "code",
   "execution_count": 604,
   "id": "5a1f22a1",
   "metadata": {},
   "outputs": [],
   "source": [
    "df['Status_binary'] = df['Status_binary'].astype(bool)"
   ]
  },
  {
   "cell_type": "code",
   "execution_count": 605,
   "id": "0336f32d",
   "metadata": {},
   "outputs": [],
   "source": [
    "df['Attendance Type'] = df['Daytime/evening attendance'].map({1: 'Daytime', 0: 'Evening'})"
   ]
  },
  {
   "cell_type": "markdown",
   "id": "f9504120",
   "metadata": {
    "papermill": {
     "duration": 0.034413,
     "end_time": "2023-08-21T04:37:06.147758",
     "exception": false,
     "start_time": "2023-08-21T04:37:06.113345",
     "status": "completed"
    },
    "tags": []
   },
   "source": [
    "## Data Description"
   ]
  },
  {
   "cell_type": "markdown",
   "id": "b93e4750",
   "metadata": {
    "papermill": {
     "duration": 0.033469,
     "end_time": "2023-08-21T04:37:06.217929",
     "exception": false,
     "start_time": "2023-08-21T04:37:06.184460",
     "status": "completed"
    },
    "tags": []
   },
   "source": [
    "Familiarize with basic statistics."
   ]
  },
  {
   "cell_type": "code",
   "execution_count": 579,
   "id": "fb797dbe",
   "metadata": {
    "execution": {
     "iopub.execute_input": "2023-08-21T04:37:06.284742Z",
     "iopub.status.busy": "2023-08-21T04:37:06.284366Z",
     "iopub.status.idle": "2023-08-21T04:37:06.390794Z",
     "shell.execute_reply": "2023-08-21T04:37:06.389122Z"
    },
    "papermill": {
     "duration": 0.142264,
     "end_time": "2023-08-21T04:37:06.393561",
     "exception": false,
     "start_time": "2023-08-21T04:37:06.251297",
     "status": "completed"
    },
    "tags": []
   },
   "outputs": [
    {
     "data": {
      "text/html": [
       "<div>\n",
       "<style scoped>\n",
       "    .dataframe tbody tr th:only-of-type {\n",
       "        vertical-align: middle;\n",
       "    }\n",
       "\n",
       "    .dataframe tbody tr th {\n",
       "        vertical-align: top;\n",
       "    }\n",
       "\n",
       "    .dataframe thead th {\n",
       "        text-align: right;\n",
       "    }\n",
       "</style>\n",
       "<table border=\"1\" class=\"dataframe\">\n",
       "  <thead>\n",
       "    <tr style=\"text-align: right;\">\n",
       "      <th></th>\n",
       "      <th>Marital status</th>\n",
       "      <th>Application mode</th>\n",
       "      <th>Application order</th>\n",
       "      <th>Course</th>\n",
       "      <th>Daytime/evening attendance</th>\n",
       "      <th>Previous qualification</th>\n",
       "      <th>Nationality</th>\n",
       "      <th>Mother's qualification</th>\n",
       "      <th>Father's qualification</th>\n",
       "      <th>Mother's occupation</th>\n",
       "      <th>Father's occupation</th>\n",
       "      <th>Displaced</th>\n",
       "      <th>Educational special needs</th>\n",
       "      <th>Debtor</th>\n",
       "      <th>Tuition fees up to date</th>\n",
       "      <th>Gender</th>\n",
       "      <th>Scholarship holder</th>\n",
       "      <th>Age at enrollment</th>\n",
       "      <th>International</th>\n",
       "      <th>Curricular units 1st sem (credited)</th>\n",
       "      <th>Curricular units 1st sem (enrolled)</th>\n",
       "      <th>Curricular units 1st sem (evaluations)</th>\n",
       "      <th>Curricular units 1st sem (approved)</th>\n",
       "      <th>Curricular units 1st sem (grade)</th>\n",
       "      <th>Curricular units 1st sem (without evaluations)</th>\n",
       "      <th>Curricular units 2nd sem (credited)</th>\n",
       "      <th>Curricular units 2nd sem (enrolled)</th>\n",
       "      <th>Curricular units 2nd sem (evaluations)</th>\n",
       "      <th>Curricular units 2nd sem (approved)</th>\n",
       "      <th>Curricular units 2nd sem (grade)</th>\n",
       "      <th>Curricular units 2nd sem (without evaluations)</th>\n",
       "      <th>Unemployment rate</th>\n",
       "      <th>Inflation rate</th>\n",
       "      <th>GDP</th>\n",
       "    </tr>\n",
       "  </thead>\n",
       "  <tbody>\n",
       "    <tr>\n",
       "      <th>count</th>\n",
       "      <td>4424.000</td>\n",
       "      <td>4424.000</td>\n",
       "      <td>4424.000</td>\n",
       "      <td>4424.000</td>\n",
       "      <td>4424.000</td>\n",
       "      <td>4424.000</td>\n",
       "      <td>4424.000</td>\n",
       "      <td>4424.000</td>\n",
       "      <td>4424.000</td>\n",
       "      <td>4424.000</td>\n",
       "      <td>4424.000</td>\n",
       "      <td>4424.000</td>\n",
       "      <td>4424.000</td>\n",
       "      <td>4424.000</td>\n",
       "      <td>4424.000</td>\n",
       "      <td>4424.000</td>\n",
       "      <td>4424.000</td>\n",
       "      <td>4424.000</td>\n",
       "      <td>4424.000</td>\n",
       "      <td>4424.000</td>\n",
       "      <td>4424.000</td>\n",
       "      <td>4424.000</td>\n",
       "      <td>4424.000</td>\n",
       "      <td>4424.000</td>\n",
       "      <td>4424.000</td>\n",
       "      <td>4424.000</td>\n",
       "      <td>4424.000</td>\n",
       "      <td>4424.000</td>\n",
       "      <td>4424.000</td>\n",
       "      <td>4424.000</td>\n",
       "      <td>4424.000</td>\n",
       "      <td>4424.000</td>\n",
       "      <td>4424.000</td>\n",
       "      <td>4424.000</td>\n",
       "    </tr>\n",
       "    <tr>\n",
       "      <th>mean</th>\n",
       "      <td>1.179</td>\n",
       "      <td>6.887</td>\n",
       "      <td>1.728</td>\n",
       "      <td>9.899</td>\n",
       "      <td>0.891</td>\n",
       "      <td>2.531</td>\n",
       "      <td>1.255</td>\n",
       "      <td>12.322</td>\n",
       "      <td>16.455</td>\n",
       "      <td>7.318</td>\n",
       "      <td>7.819</td>\n",
       "      <td>0.548</td>\n",
       "      <td>0.012</td>\n",
       "      <td>0.114</td>\n",
       "      <td>0.881</td>\n",
       "      <td>0.352</td>\n",
       "      <td>0.248</td>\n",
       "      <td>23.265</td>\n",
       "      <td>0.025</td>\n",
       "      <td>0.710</td>\n",
       "      <td>6.271</td>\n",
       "      <td>8.299</td>\n",
       "      <td>4.707</td>\n",
       "      <td>10.641</td>\n",
       "      <td>0.138</td>\n",
       "      <td>0.542</td>\n",
       "      <td>6.232</td>\n",
       "      <td>8.063</td>\n",
       "      <td>4.436</td>\n",
       "      <td>10.230</td>\n",
       "      <td>0.150</td>\n",
       "      <td>11.566</td>\n",
       "      <td>1.228</td>\n",
       "      <td>0.002</td>\n",
       "    </tr>\n",
       "    <tr>\n",
       "      <th>std</th>\n",
       "      <td>0.606</td>\n",
       "      <td>5.299</td>\n",
       "      <td>1.314</td>\n",
       "      <td>4.332</td>\n",
       "      <td>0.312</td>\n",
       "      <td>3.964</td>\n",
       "      <td>1.748</td>\n",
       "      <td>9.026</td>\n",
       "      <td>11.045</td>\n",
       "      <td>3.998</td>\n",
       "      <td>4.857</td>\n",
       "      <td>0.498</td>\n",
       "      <td>0.107</td>\n",
       "      <td>0.317</td>\n",
       "      <td>0.324</td>\n",
       "      <td>0.478</td>\n",
       "      <td>0.432</td>\n",
       "      <td>7.588</td>\n",
       "      <td>0.156</td>\n",
       "      <td>2.361</td>\n",
       "      <td>2.480</td>\n",
       "      <td>4.179</td>\n",
       "      <td>3.094</td>\n",
       "      <td>4.844</td>\n",
       "      <td>0.691</td>\n",
       "      <td>1.919</td>\n",
       "      <td>2.196</td>\n",
       "      <td>3.948</td>\n",
       "      <td>3.015</td>\n",
       "      <td>5.211</td>\n",
       "      <td>0.754</td>\n",
       "      <td>2.664</td>\n",
       "      <td>1.383</td>\n",
       "      <td>2.270</td>\n",
       "    </tr>\n",
       "    <tr>\n",
       "      <th>min</th>\n",
       "      <td>1.000</td>\n",
       "      <td>1.000</td>\n",
       "      <td>0.000</td>\n",
       "      <td>1.000</td>\n",
       "      <td>0.000</td>\n",
       "      <td>1.000</td>\n",
       "      <td>1.000</td>\n",
       "      <td>1.000</td>\n",
       "      <td>1.000</td>\n",
       "      <td>1.000</td>\n",
       "      <td>1.000</td>\n",
       "      <td>0.000</td>\n",
       "      <td>0.000</td>\n",
       "      <td>0.000</td>\n",
       "      <td>0.000</td>\n",
       "      <td>0.000</td>\n",
       "      <td>0.000</td>\n",
       "      <td>17.000</td>\n",
       "      <td>0.000</td>\n",
       "      <td>0.000</td>\n",
       "      <td>0.000</td>\n",
       "      <td>0.000</td>\n",
       "      <td>0.000</td>\n",
       "      <td>0.000</td>\n",
       "      <td>0.000</td>\n",
       "      <td>0.000</td>\n",
       "      <td>0.000</td>\n",
       "      <td>0.000</td>\n",
       "      <td>0.000</td>\n",
       "      <td>0.000</td>\n",
       "      <td>0.000</td>\n",
       "      <td>7.600</td>\n",
       "      <td>-0.800</td>\n",
       "      <td>-4.060</td>\n",
       "    </tr>\n",
       "    <tr>\n",
       "      <th>25%</th>\n",
       "      <td>1.000</td>\n",
       "      <td>1.000</td>\n",
       "      <td>1.000</td>\n",
       "      <td>6.000</td>\n",
       "      <td>1.000</td>\n",
       "      <td>1.000</td>\n",
       "      <td>1.000</td>\n",
       "      <td>2.000</td>\n",
       "      <td>3.000</td>\n",
       "      <td>5.000</td>\n",
       "      <td>5.000</td>\n",
       "      <td>0.000</td>\n",
       "      <td>0.000</td>\n",
       "      <td>0.000</td>\n",
       "      <td>1.000</td>\n",
       "      <td>0.000</td>\n",
       "      <td>0.000</td>\n",
       "      <td>19.000</td>\n",
       "      <td>0.000</td>\n",
       "      <td>0.000</td>\n",
       "      <td>5.000</td>\n",
       "      <td>6.000</td>\n",
       "      <td>3.000</td>\n",
       "      <td>11.000</td>\n",
       "      <td>0.000</td>\n",
       "      <td>0.000</td>\n",
       "      <td>5.000</td>\n",
       "      <td>6.000</td>\n",
       "      <td>2.000</td>\n",
       "      <td>10.750</td>\n",
       "      <td>0.000</td>\n",
       "      <td>9.400</td>\n",
       "      <td>0.300</td>\n",
       "      <td>-1.700</td>\n",
       "    </tr>\n",
       "    <tr>\n",
       "      <th>50%</th>\n",
       "      <td>1.000</td>\n",
       "      <td>8.000</td>\n",
       "      <td>1.000</td>\n",
       "      <td>10.000</td>\n",
       "      <td>1.000</td>\n",
       "      <td>1.000</td>\n",
       "      <td>1.000</td>\n",
       "      <td>13.000</td>\n",
       "      <td>14.000</td>\n",
       "      <td>6.000</td>\n",
       "      <td>8.000</td>\n",
       "      <td>1.000</td>\n",
       "      <td>0.000</td>\n",
       "      <td>0.000</td>\n",
       "      <td>1.000</td>\n",
       "      <td>0.000</td>\n",
       "      <td>0.000</td>\n",
       "      <td>20.000</td>\n",
       "      <td>0.000</td>\n",
       "      <td>0.000</td>\n",
       "      <td>6.000</td>\n",
       "      <td>8.000</td>\n",
       "      <td>5.000</td>\n",
       "      <td>12.286</td>\n",
       "      <td>0.000</td>\n",
       "      <td>0.000</td>\n",
       "      <td>6.000</td>\n",
       "      <td>8.000</td>\n",
       "      <td>5.000</td>\n",
       "      <td>12.200</td>\n",
       "      <td>0.000</td>\n",
       "      <td>11.100</td>\n",
       "      <td>1.400</td>\n",
       "      <td>0.320</td>\n",
       "    </tr>\n",
       "    <tr>\n",
       "      <th>75%</th>\n",
       "      <td>1.000</td>\n",
       "      <td>12.000</td>\n",
       "      <td>2.000</td>\n",
       "      <td>13.000</td>\n",
       "      <td>1.000</td>\n",
       "      <td>1.000</td>\n",
       "      <td>1.000</td>\n",
       "      <td>22.000</td>\n",
       "      <td>27.000</td>\n",
       "      <td>10.000</td>\n",
       "      <td>10.000</td>\n",
       "      <td>1.000</td>\n",
       "      <td>0.000</td>\n",
       "      <td>0.000</td>\n",
       "      <td>1.000</td>\n",
       "      <td>1.000</td>\n",
       "      <td>0.000</td>\n",
       "      <td>25.000</td>\n",
       "      <td>0.000</td>\n",
       "      <td>0.000</td>\n",
       "      <td>7.000</td>\n",
       "      <td>10.000</td>\n",
       "      <td>6.000</td>\n",
       "      <td>13.400</td>\n",
       "      <td>0.000</td>\n",
       "      <td>0.000</td>\n",
       "      <td>7.000</td>\n",
       "      <td>10.000</td>\n",
       "      <td>6.000</td>\n",
       "      <td>13.333</td>\n",
       "      <td>0.000</td>\n",
       "      <td>13.900</td>\n",
       "      <td>2.600</td>\n",
       "      <td>1.790</td>\n",
       "    </tr>\n",
       "    <tr>\n",
       "      <th>max</th>\n",
       "      <td>6.000</td>\n",
       "      <td>18.000</td>\n",
       "      <td>9.000</td>\n",
       "      <td>17.000</td>\n",
       "      <td>1.000</td>\n",
       "      <td>17.000</td>\n",
       "      <td>21.000</td>\n",
       "      <td>29.000</td>\n",
       "      <td>34.000</td>\n",
       "      <td>32.000</td>\n",
       "      <td>46.000</td>\n",
       "      <td>1.000</td>\n",
       "      <td>1.000</td>\n",
       "      <td>1.000</td>\n",
       "      <td>1.000</td>\n",
       "      <td>1.000</td>\n",
       "      <td>1.000</td>\n",
       "      <td>70.000</td>\n",
       "      <td>1.000</td>\n",
       "      <td>20.000</td>\n",
       "      <td>26.000</td>\n",
       "      <td>45.000</td>\n",
       "      <td>26.000</td>\n",
       "      <td>18.875</td>\n",
       "      <td>12.000</td>\n",
       "      <td>19.000</td>\n",
       "      <td>23.000</td>\n",
       "      <td>33.000</td>\n",
       "      <td>20.000</td>\n",
       "      <td>18.571</td>\n",
       "      <td>12.000</td>\n",
       "      <td>16.200</td>\n",
       "      <td>3.700</td>\n",
       "      <td>3.510</td>\n",
       "    </tr>\n",
       "  </tbody>\n",
       "</table>\n",
       "</div>"
      ],
      "text/plain": [
       "       Marital status  Application mode  Application order    Course  \\\n",
       "count        4424.000          4424.000           4424.000  4424.000   \n",
       "mean            1.179             6.887              1.728     9.899   \n",
       "std             0.606             5.299              1.314     4.332   \n",
       "min             1.000             1.000              0.000     1.000   \n",
       "25%             1.000             1.000              1.000     6.000   \n",
       "50%             1.000             8.000              1.000    10.000   \n",
       "75%             1.000            12.000              2.000    13.000   \n",
       "max             6.000            18.000              9.000    17.000   \n",
       "\n",
       "       Daytime/evening attendance  Previous qualification  Nationality  \\\n",
       "count                    4424.000                4424.000     4424.000   \n",
       "mean                        0.891                   2.531        1.255   \n",
       "std                         0.312                   3.964        1.748   \n",
       "min                         0.000                   1.000        1.000   \n",
       "25%                         1.000                   1.000        1.000   \n",
       "50%                         1.000                   1.000        1.000   \n",
       "75%                         1.000                   1.000        1.000   \n",
       "max                         1.000                  17.000       21.000   \n",
       "\n",
       "       Mother's qualification  Father's qualification  Mother's occupation  \\\n",
       "count                4424.000                4424.000             4424.000   \n",
       "mean                   12.322                  16.455                7.318   \n",
       "std                     9.026                  11.045                3.998   \n",
       "min                     1.000                   1.000                1.000   \n",
       "25%                     2.000                   3.000                5.000   \n",
       "50%                    13.000                  14.000                6.000   \n",
       "75%                    22.000                  27.000               10.000   \n",
       "max                    29.000                  34.000               32.000   \n",
       "\n",
       "       Father's occupation  Displaced  Educational special needs    Debtor  \\\n",
       "count             4424.000   4424.000                   4424.000  4424.000   \n",
       "mean                 7.819      0.548                      0.012     0.114   \n",
       "std                  4.857      0.498                      0.107     0.317   \n",
       "min                  1.000      0.000                      0.000     0.000   \n",
       "25%                  5.000      0.000                      0.000     0.000   \n",
       "50%                  8.000      1.000                      0.000     0.000   \n",
       "75%                 10.000      1.000                      0.000     0.000   \n",
       "max                 46.000      1.000                      1.000     1.000   \n",
       "\n",
       "       Tuition fees up to date    Gender  Scholarship holder  \\\n",
       "count                 4424.000  4424.000            4424.000   \n",
       "mean                     0.881     0.352               0.248   \n",
       "std                      0.324     0.478               0.432   \n",
       "min                      0.000     0.000               0.000   \n",
       "25%                      1.000     0.000               0.000   \n",
       "50%                      1.000     0.000               0.000   \n",
       "75%                      1.000     1.000               0.000   \n",
       "max                      1.000     1.000               1.000   \n",
       "\n",
       "       Age at enrollment  International  Curricular units 1st sem (credited)  \\\n",
       "count           4424.000       4424.000                             4424.000   \n",
       "mean              23.265          0.025                                0.710   \n",
       "std                7.588          0.156                                2.361   \n",
       "min               17.000          0.000                                0.000   \n",
       "25%               19.000          0.000                                0.000   \n",
       "50%               20.000          0.000                                0.000   \n",
       "75%               25.000          0.000                                0.000   \n",
       "max               70.000          1.000                               20.000   \n",
       "\n",
       "       Curricular units 1st sem (enrolled)  \\\n",
       "count                             4424.000   \n",
       "mean                                 6.271   \n",
       "std                                  2.480   \n",
       "min                                  0.000   \n",
       "25%                                  5.000   \n",
       "50%                                  6.000   \n",
       "75%                                  7.000   \n",
       "max                                 26.000   \n",
       "\n",
       "       Curricular units 1st sem (evaluations)  \\\n",
       "count                                4424.000   \n",
       "mean                                    8.299   \n",
       "std                                     4.179   \n",
       "min                                     0.000   \n",
       "25%                                     6.000   \n",
       "50%                                     8.000   \n",
       "75%                                    10.000   \n",
       "max                                    45.000   \n",
       "\n",
       "       Curricular units 1st sem (approved)  Curricular units 1st sem (grade)  \\\n",
       "count                             4424.000                          4424.000   \n",
       "mean                                 4.707                            10.641   \n",
       "std                                  3.094                             4.844   \n",
       "min                                  0.000                             0.000   \n",
       "25%                                  3.000                            11.000   \n",
       "50%                                  5.000                            12.286   \n",
       "75%                                  6.000                            13.400   \n",
       "max                                 26.000                            18.875   \n",
       "\n",
       "       Curricular units 1st sem (without evaluations)  \\\n",
       "count                                        4424.000   \n",
       "mean                                            0.138   \n",
       "std                                             0.691   \n",
       "min                                             0.000   \n",
       "25%                                             0.000   \n",
       "50%                                             0.000   \n",
       "75%                                             0.000   \n",
       "max                                            12.000   \n",
       "\n",
       "       Curricular units 2nd sem (credited)  \\\n",
       "count                             4424.000   \n",
       "mean                                 0.542   \n",
       "std                                  1.919   \n",
       "min                                  0.000   \n",
       "25%                                  0.000   \n",
       "50%                                  0.000   \n",
       "75%                                  0.000   \n",
       "max                                 19.000   \n",
       "\n",
       "       Curricular units 2nd sem (enrolled)  \\\n",
       "count                             4424.000   \n",
       "mean                                 6.232   \n",
       "std                                  2.196   \n",
       "min                                  0.000   \n",
       "25%                                  5.000   \n",
       "50%                                  6.000   \n",
       "75%                                  7.000   \n",
       "max                                 23.000   \n",
       "\n",
       "       Curricular units 2nd sem (evaluations)  \\\n",
       "count                                4424.000   \n",
       "mean                                    8.063   \n",
       "std                                     3.948   \n",
       "min                                     0.000   \n",
       "25%                                     6.000   \n",
       "50%                                     8.000   \n",
       "75%                                    10.000   \n",
       "max                                    33.000   \n",
       "\n",
       "       Curricular units 2nd sem (approved)  Curricular units 2nd sem (grade)  \\\n",
       "count                             4424.000                          4424.000   \n",
       "mean                                 4.436                            10.230   \n",
       "std                                  3.015                             5.211   \n",
       "min                                  0.000                             0.000   \n",
       "25%                                  2.000                            10.750   \n",
       "50%                                  5.000                            12.200   \n",
       "75%                                  6.000                            13.333   \n",
       "max                                 20.000                            18.571   \n",
       "\n",
       "       Curricular units 2nd sem (without evaluations)  Unemployment rate  \\\n",
       "count                                        4424.000           4424.000   \n",
       "mean                                            0.150             11.566   \n",
       "std                                             0.754              2.664   \n",
       "min                                             0.000              7.600   \n",
       "25%                                             0.000              9.400   \n",
       "50%                                             0.000             11.100   \n",
       "75%                                             0.000             13.900   \n",
       "max                                            12.000             16.200   \n",
       "\n",
       "       Inflation rate       GDP  \n",
       "count        4424.000  4424.000  \n",
       "mean            1.228     0.002  \n",
       "std             1.383     2.270  \n",
       "min            -0.800    -4.060  \n",
       "25%             0.300    -1.700  \n",
       "50%             1.400     0.320  \n",
       "75%             2.600     1.790  \n",
       "max             3.700     3.510  "
      ]
     },
     "execution_count": 579,
     "metadata": {},
     "output_type": "execute_result"
    }
   ],
   "source": [
    "df.describe().round(3)"
   ]
  },
  {
   "cell_type": "markdown",
   "id": "f7071a88",
   "metadata": {
    "papermill": {
     "duration": 0.032914,
     "end_time": "2023-08-21T04:37:06.528973",
     "exception": false,
     "start_time": "2023-08-21T04:37:06.496059",
     "status": "completed"
    },
    "tags": []
   },
   "source": [
    "View data types."
   ]
  },
  {
   "cell_type": "code",
   "execution_count": 580,
   "id": "0cba84c2",
   "metadata": {
    "execution": {
     "iopub.execute_input": "2023-08-21T04:37:06.600315Z",
     "iopub.status.busy": "2023-08-21T04:37:06.599675Z",
     "iopub.status.idle": "2023-08-21T04:37:06.624099Z",
     "shell.execute_reply": "2023-08-21T04:37:06.622140Z"
    },
    "papermill": {
     "duration": 0.06464,
     "end_time": "2023-08-21T04:37:06.626773",
     "exception": false,
     "start_time": "2023-08-21T04:37:06.562133",
     "status": "completed"
    },
    "tags": []
   },
   "outputs": [
    {
     "name": "stdout",
     "output_type": "stream",
     "text": [
      "<class 'pandas.core.frame.DataFrame'>\n",
      "RangeIndex: 4424 entries, 0 to 4423\n",
      "Data columns (total 37 columns):\n",
      " #   Column                                          Non-Null Count  Dtype  \n",
      "---  ------                                          --------------  -----  \n",
      " 0   Marital status                                  4424 non-null   int64  \n",
      " 1   Application mode                                4424 non-null   int64  \n",
      " 2   Application order                               4424 non-null   int64  \n",
      " 3   Course                                          4424 non-null   int64  \n",
      " 4   Daytime/evening attendance                      4424 non-null   int64  \n",
      " 5   Previous qualification                          4424 non-null   int64  \n",
      " 6   Nationality                                     4424 non-null   int64  \n",
      " 7   Mother's qualification                          4424 non-null   int64  \n",
      " 8   Father's qualification                          4424 non-null   int64  \n",
      " 9   Mother's occupation                             4424 non-null   int64  \n",
      " 10  Father's occupation                             4424 non-null   int64  \n",
      " 11  Displaced                                       4424 non-null   int64  \n",
      " 12  Educational special needs                       4424 non-null   int64  \n",
      " 13  Debtor                                          4424 non-null   int64  \n",
      " 14  Tuition fees up to date                         4424 non-null   int64  \n",
      " 15  Gender                                          4424 non-null   int64  \n",
      " 16  Scholarship holder                              4424 non-null   int64  \n",
      " 17  Age at enrollment                               4424 non-null   int64  \n",
      " 18  International                                   4424 non-null   int64  \n",
      " 19  Curricular units 1st sem (credited)             4424 non-null   int64  \n",
      " 20  Curricular units 1st sem (enrolled)             4424 non-null   int64  \n",
      " 21  Curricular units 1st sem (evaluations)          4424 non-null   int64  \n",
      " 22  Curricular units 1st sem (approved)             4424 non-null   int64  \n",
      " 23  Curricular units 1st sem (grade)                4424 non-null   float64\n",
      " 24  Curricular units 1st sem (without evaluations)  4424 non-null   int64  \n",
      " 25  Curricular units 2nd sem (credited)             4424 non-null   int64  \n",
      " 26  Curricular units 2nd sem (enrolled)             4424 non-null   int64  \n",
      " 27  Curricular units 2nd sem (evaluations)          4424 non-null   int64  \n",
      " 28  Curricular units 2nd sem (approved)             4424 non-null   int64  \n",
      " 29  Curricular units 2nd sem (grade)                4424 non-null   float64\n",
      " 30  Curricular units 2nd sem (without evaluations)  4424 non-null   int64  \n",
      " 31  Unemployment rate                               4424 non-null   float64\n",
      " 32  Inflation rate                                  4424 non-null   float64\n",
      " 33  GDP                                             4424 non-null   float64\n",
      " 34  Status                                          4424 non-null   object \n",
      " 35  Status_binary                                   4424 non-null   bool   \n",
      " 36  Attendance Type                                 4424 non-null   object \n",
      "dtypes: bool(1), float64(5), int64(29), object(2)\n",
      "memory usage: 1.2+ MB\n"
     ]
    }
   ],
   "source": [
    "df.info()"
   ]
  },
  {
   "cell_type": "markdown",
   "id": "3b634bb4",
   "metadata": {
    "papermill": {
     "duration": 0.034548,
     "end_time": "2023-08-21T04:37:06.697301",
     "exception": false,
     "start_time": "2023-08-21T04:37:06.662753",
     "status": "completed"
    },
    "tags": []
   },
   "source": [
    "All variables are numeric except for the status variable, which is non-numeric categorical. Will need to convert Status to numeric after exploring the dataset, prior to applying ML models."
   ]
  },
  {
   "cell_type": "markdown",
   "id": "7f1f4c30",
   "metadata": {
    "papermill": {
     "duration": 0.037429,
     "end_time": "2023-08-21T04:37:06.768356",
     "exception": false,
     "start_time": "2023-08-21T04:37:06.730927",
     "status": "completed"
    },
    "tags": []
   },
   "source": [
    "## Missing Data"
   ]
  },
  {
   "cell_type": "markdown",
   "id": "e8e035e7",
   "metadata": {
    "papermill": {
     "duration": 0.033308,
     "end_time": "2023-08-21T04:37:06.837070",
     "exception": false,
     "start_time": "2023-08-21T04:37:06.803762",
     "status": "completed"
    },
    "tags": []
   },
   "source": [
    "Use .isna() function to search for any missing data prior to analysis."
   ]
  },
  {
   "cell_type": "code",
   "execution_count": 575,
   "id": "0c671d60",
   "metadata": {
    "execution": {
     "iopub.execute_input": "2023-08-21T04:37:06.907644Z",
     "iopub.status.busy": "2023-08-21T04:37:06.906967Z",
     "iopub.status.idle": "2023-08-21T04:37:06.916197Z",
     "shell.execute_reply": "2023-08-21T04:37:06.915033Z"
    },
    "papermill": {
     "duration": 0.047575,
     "end_time": "2023-08-21T04:37:06.918691",
     "exception": false,
     "start_time": "2023-08-21T04:37:06.871116",
     "status": "completed"
    },
    "tags": []
   },
   "outputs": [
    {
     "name": "stdout",
     "output_type": "stream",
     "text": [
      "Marital status                                    0\n",
      "Application mode                                  0\n",
      "Application order                                 0\n",
      "Course                                            0\n",
      "Daytime/evening attendance                        0\n",
      "Previous qualification                            0\n",
      "Nationality                                       0\n",
      "Mother's qualification                            0\n",
      "Father's qualification                            0\n",
      "Mother's occupation                               0\n",
      "Father's occupation                               0\n",
      "Displaced                                         0\n",
      "Educational special needs                         0\n",
      "Debtor                                            0\n",
      "Tuition fees up to date                           0\n",
      "Gender                                            0\n",
      "Scholarship holder                                0\n",
      "Age at enrollment                                 0\n",
      "International                                     0\n",
      "Curricular units 1st sem (credited)               0\n",
      "Curricular units 1st sem (enrolled)               0\n",
      "Curricular units 1st sem (evaluations)            0\n",
      "Curricular units 1st sem (approved)               0\n",
      "Curricular units 1st sem (grade)                  0\n",
      "Curricular units 1st sem (without evaluations)    0\n",
      "Curricular units 2nd sem (credited)               0\n",
      "Curricular units 2nd sem (enrolled)               0\n",
      "Curricular units 2nd sem (evaluations)            0\n",
      "Curricular units 2nd sem (approved)               0\n",
      "Curricular units 2nd sem (grade)                  0\n",
      "Curricular units 2nd sem (without evaluations)    0\n",
      "Unemployment rate                                 0\n",
      "Inflation rate                                    0\n",
      "GDP                                               0\n",
      "Status                                            0\n",
      "Status_binary                                     0\n",
      "dtype: int64\n",
      "Total Missing:  0\n"
     ]
    }
   ],
   "source": [
    "print(df.isna().sum())\n",
    "print('Total Missing: ', df.isna().sum().sum())"
   ]
  },
  {
   "cell_type": "markdown",
   "id": "a66d9c4c",
   "metadata": {
    "papermill": {
     "duration": 0.033609,
     "end_time": "2023-08-21T04:37:06.987488",
     "exception": false,
     "start_time": "2023-08-21T04:37:06.953879",
     "status": "completed"
    },
    "tags": []
   },
   "source": [
    "## Duplicates"
   ]
  },
  {
   "cell_type": "code",
   "execution_count": 527,
   "id": "80653821",
   "metadata": {
    "execution": {
     "iopub.execute_input": "2023-08-21T04:37:07.057151Z",
     "iopub.status.busy": "2023-08-21T04:37:07.056455Z",
     "iopub.status.idle": "2023-08-21T04:37:07.072957Z",
     "shell.execute_reply": "2023-08-21T04:37:07.070929Z"
    },
    "papermill": {
     "duration": 0.054213,
     "end_time": "2023-08-21T04:37:07.075392",
     "exception": false,
     "start_time": "2023-08-21T04:37:07.021179",
     "status": "completed"
    },
    "tags": []
   },
   "outputs": [
    {
     "name": "stdout",
     "output_type": "stream",
     "text": [
      "Total Duplicates:  0\n"
     ]
    }
   ],
   "source": [
    "print('Total Duplicates: ', df.duplicated().sum())"
   ]
  },
  {
   "cell_type": "markdown",
   "id": "e14abe08",
   "metadata": {
    "papermill": {
     "duration": 0.034076,
     "end_time": "2023-08-21T04:37:07.143024",
     "exception": false,
     "start_time": "2023-08-21T04:37:07.108948",
     "status": "completed"
    },
    "tags": []
   },
   "source": [
    "There are no duplicate rows."
   ]
  },
  {
   "cell_type": "markdown",
   "id": "7cb7da03",
   "metadata": {
    "papermill": {
     "duration": 0.033599,
     "end_time": "2023-08-21T04:37:07.210636",
     "exception": false,
     "start_time": "2023-08-21T04:37:07.177037",
     "status": "completed"
    },
    "tags": []
   },
   "source": [
    "# Data Exploration"
   ]
  },
  {
   "cell_type": "markdown",
   "id": "5879395f",
   "metadata": {},
   "source": [
    "## Distribution by Age"
   ]
  },
  {
   "cell_type": "code",
   "execution_count": 551,
   "id": "68deab40",
   "metadata": {},
   "outputs": [
    {
     "data": {
      "image/png": "[encoded data removed]",
      "text/plain": [
       "<Figure size 700x500 with 1 Axes>"
      ]
     },
     "metadata": {},
     "output_type": "display_data"
    }
   ],
   "source": [
    "# Create plot\n",
    "sns.set_style('ticks')\n",
    "sns.histplot(df, x='Age at enrollment', color='dodgerblue', alpha=0.5, binwidth=2)\n",
    "\n",
    "# Customize the labels\n",
    "plt.title('Distribution by Age', pad=20)\n",
    "plt.ylabel('Total Students')\n",
    "\n",
    "plt.show()"
   ]
  },
  {
   "cell_type": "markdown",
   "id": "3a19b727",
   "metadata": {},
   "source": [
    "Most students in the sample population are between the ages of 18-21, consistent with what we would expect with undergraduate enrollment."
   ]
  },
  {
   "cell_type": "code",
   "execution_count": 581,
   "id": "80aac157",
   "metadata": {},
   "outputs": [
    {
     "data": {
      "image/png": "[encoded data removed]",
      "text/plain": [
       "<Figure size 700x500 with 1 Axes>"
      ]
     },
     "metadata": {},
     "output_type": "display_data"
    }
   ],
   "source": [
    "sns.countplot(df, x='Attendance Type', palette='pastel')\n",
    "plt.title('Distribution of Attendance Type')\n",
    "plt.xlabel('Attendance Type')\n",
    "plt.ylabel('Count')\n",
    "\n",
    "plt.show()"
   ]
  },
  {
   "cell_type": "code",
   "execution_count": 591,
   "id": "f6f5b59e",
   "metadata": {},
   "outputs": [
    {
     "data": {
      "image/png": "[encoded data removed]",
      "text/plain": [
       "<Figure size 700x500 with 1 Axes>"
      ]
     },
     "metadata": {},
     "output_type": "display_data"
    }
   ],
   "source": [
    "sns.countplot(df, x='Scholarship holder', palette='pastel')\n",
    "plt.xticks(ticks=[0,1], labels=['Yes', 'No'])\n",
    "plt.title('Distribution of Scholarship Status')\n",
    "plt.xlabel('Scholarship Status')\n",
    "plt.ylabel('Count')\n",
    "\n",
    "plt.show()"
   ]
  },
  {
   "cell_type": "code",
   "execution_count": 534,
   "id": "8ec7755c",
   "metadata": {},
   "outputs": [
    {
     "data": {
      "text/plain": [
       "Graduate    2209\n",
       "Dropout     1421\n",
       "Enrolled     794\n",
       "Name: Status, dtype: int64"
      ]
     },
     "execution_count": 534,
     "metadata": {},
     "output_type": "execute_result"
    }
   ],
   "source": [
    "df['Status'].value_counts()"
   ]
  },
  {
   "cell_type": "code",
   "execution_count": 442,
   "id": "694f5b3b",
   "metadata": {},
   "outputs": [
    {
     "data": {
      "text/plain": [
       "<Axes: xlabel='Status', ylabel='count'>"
      ]
     },
     "execution_count": 442,
     "metadata": {},
     "output_type": "execute_result"
    },
    {
     "data": {
      "image/png": "[encoded data removed]",
      "text/plain": [
       "<Figure size 700x500 with 1 Axes>"
      ]
     },
     "metadata": {},
     "output_type": "display_data"
    }
   ],
   "source": [
    "sns.countplot(df, x='Status', palette='pastel')"
   ]
  },
  {
   "cell_type": "code",
   "execution_count": 606,
   "id": "b9edffbc",
   "metadata": {},
   "outputs": [],
   "source": [
    "df = df[df.Status != 'Enrolled']"
   ]
  },
  {
   "cell_type": "code",
   "execution_count": 470,
   "id": "0fd56ceb",
   "metadata": {},
   "outputs": [
    {
     "data": {
      "text/plain": [
       "(3630, 36)"
      ]
     },
     "execution_count": 470,
     "metadata": {},
     "output_type": "execute_result"
    }
   ],
   "source": [
    "df.shape"
   ]
  },
  {
   "cell_type": "markdown",
   "id": "6e042be3",
   "metadata": {
    "papermill": {
     "duration": 0.034584,
     "end_time": "2023-08-21T04:37:08.236602",
     "exception": false,
     "start_time": "2023-08-21T04:37:08.202018",
     "status": "completed"
    },
    "tags": []
   },
   "source": [
    "## Status Distribution"
   ]
  },
  {
   "cell_type": "markdown",
   "id": "c0eecb6e",
   "metadata": {
    "papermill": {
     "duration": 0.03495,
     "end_time": "2023-08-21T04:37:08.307613",
     "exception": false,
     "start_time": "2023-08-21T04:37:08.272663",
     "status": "completed"
    },
    "tags": []
   },
   "source": [
    "Next, I will take a look at the current distribution of the target variable with a frequency distribution table and corresponding bar chart. "
   ]
  },
  {
   "cell_type": "code",
   "execution_count": 471,
   "id": "346e551d",
   "metadata": {
    "execution": {
     "iopub.execute_input": "2023-08-21T04:37:08.380363Z",
     "iopub.status.busy": "2023-08-21T04:37:08.380015Z",
     "iopub.status.idle": "2023-08-21T04:37:08.396111Z",
     "shell.execute_reply": "2023-08-21T04:37:08.394766Z"
    },
    "papermill": {
     "duration": 0.055018,
     "end_time": "2023-08-21T04:37:08.398398",
     "exception": false,
     "start_time": "2023-08-21T04:37:08.343380",
     "status": "completed"
    },
    "tags": []
   },
   "outputs": [
    {
     "data": {
      "text/html": [
       "<div>\n",
       "<style scoped>\n",
       "    .dataframe tbody tr th:only-of-type {\n",
       "        vertical-align: middle;\n",
       "    }\n",
       "\n",
       "    .dataframe tbody tr th {\n",
       "        vertical-align: top;\n",
       "    }\n",
       "\n",
       "    .dataframe thead th {\n",
       "        text-align: right;\n",
       "    }\n",
       "</style>\n",
       "<table border=\"1\" class=\"dataframe\">\n",
       "  <thead>\n",
       "    <tr style=\"text-align: right;\">\n",
       "      <th></th>\n",
       "      <th>Status</th>\n",
       "      <th>% of Total</th>\n",
       "    </tr>\n",
       "  </thead>\n",
       "  <tbody>\n",
       "    <tr>\n",
       "      <th>Graduate</th>\n",
       "      <td>2209</td>\n",
       "      <td>61</td>\n",
       "    </tr>\n",
       "    <tr>\n",
       "      <th>Dropout</th>\n",
       "      <td>1421</td>\n",
       "      <td>39</td>\n",
       "    </tr>\n",
       "  </tbody>\n",
       "</table>\n",
       "</div>"
      ],
      "text/plain": [
       "          Status  % of Total\n",
       "Graduate    2209          61\n",
       "Dropout     1421          39"
      ]
     },
     "execution_count": 471,
     "metadata": {},
     "output_type": "execute_result"
    }
   ],
   "source": [
    "# Create data frame containing % of total column\n",
    "freq_distribution = pd.DataFrame(df['Status'].value_counts())\n",
    "freq_distribution['% of Total'] = round((freq_distribution['Status'] / df['Status'].value_counts().sum()) * 100, 2)\n",
    "freq_distribution"
   ]
  },
  {
   "cell_type": "markdown",
   "id": "4fe4f953",
   "metadata": {
    "papermill": {
     "duration": 0.035836,
     "end_time": "2023-08-21T04:37:08.470191",
     "exception": false,
     "start_time": "2023-08-21T04:37:08.434355",
     "status": "completed"
    },
    "tags": []
   },
   "source": [
    "Approximately 61% of the sample students are labeled as Graduate and 39% are labeled as Dropout."
   ]
  },
  {
   "cell_type": "code",
   "execution_count": 167,
   "id": "e2fe1625",
   "metadata": {
    "execution": {
     "iopub.execute_input": "2023-08-21T04:37:08.613147Z",
     "iopub.status.busy": "2023-08-21T04:37:08.612756Z",
     "iopub.status.idle": "2023-08-21T04:37:08.774336Z",
     "shell.execute_reply": "2023-08-21T04:37:08.772407Z"
    },
    "papermill": {
     "duration": 0.201217,
     "end_time": "2023-08-21T04:37:08.777080",
     "exception": false,
     "start_time": "2023-08-21T04:37:08.575863",
     "status": "completed"
    },
    "tags": []
   },
   "outputs": [
    {
     "data": {
      "image/png": "[encoded data removed]",
      "text/plain": [
       "<Figure size 700x500 with 1 Axes>"
      ]
     },
     "metadata": {},
     "output_type": "display_data"
    }
   ],
   "source": [
    "sns.set_style('ticks')\n",
    "sns.countplot(df, x='Status', palette='pastel')\n",
    "\n",
    "plt.ylabel('Total Students')\n",
    "plt.xlabel(None)\n",
    "plt.title('Distribution of Status', pad=20)\n",
    "\n",
    "plt.show()"
   ]
  },
  {
   "cell_type": "markdown",
   "id": "f181b743",
   "metadata": {},
   "source": [
    "It can be observed that most students graduate relative to dropping out. However, there percentage of students \n",
    "that drop out is substantial. This makes it imperative to explore the similar characteristics of these students\n",
    "to identify areas that needs to be improved to reduce drop out rate and increase graduation rate."
   ]
  },
  {
   "cell_type": "markdown",
   "id": "c54b758a",
   "metadata": {
    "papermill": {
     "duration": 0.035597,
     "end_time": "2023-08-21T04:37:08.847065",
     "exception": false,
     "start_time": "2023-08-21T04:37:08.811468",
     "status": "completed"
    },
    "tags": []
   },
   "source": [
    "## Distribution of Status by Gender"
   ]
  },
  {
   "cell_type": "code",
   "execution_count": 584,
   "id": "9246e891",
   "metadata": {
    "execution": {
     "iopub.execute_input": "2023-08-21T04:37:08.921536Z",
     "iopub.status.busy": "2023-08-21T04:37:08.921146Z",
     "iopub.status.idle": "2023-08-21T04:37:09.123390Z",
     "shell.execute_reply": "2023-08-21T04:37:09.121954Z"
    },
    "papermill": {
     "duration": 0.242766,
     "end_time": "2023-08-21T04:37:09.126468",
     "exception": false,
     "start_time": "2023-08-21T04:37:08.883702",
     "status": "completed"
    },
    "tags": []
   },
   "outputs": [
    {
     "data": {
      "image/png": "[encoded data removed]",
      "text/plain": [
       "<Figure size 700x500 with 1 Axes>"
      ]
     },
     "metadata": {},
     "output_type": "display_data"
    }
   ],
   "source": [
    "sns.set_style('ticks')\n",
    "sns.countplot(df, x='Gender', hue='Status', palette='pastel')\n",
    "\n",
    "plt.xticks(ticks=[0,1], labels=['Female', 'Male'])\n",
    "plt.ylabel('Total Students')\n",
    "plt.xlabel(None)\n",
    "plt.title('Distribution of Status by Gender', pad=20)\n",
    "\n",
    "plt.show()"
   ]
  },
  {
   "cell_type": "markdown",
   "id": "728404ff",
   "metadata": {
    "papermill": {
     "duration": 0.035642,
     "end_time": "2023-08-21T04:37:09.200022",
     "exception": false,
     "start_time": "2023-08-21T04:37:09.164380",
     "status": "completed"
    },
    "tags": []
   },
   "source": [
    "From the visualization above it can be infered that more males are likely to drop out than females. \n",
    "For further drill down, it would be imperative to look into similar characteristics of the males that drop out."
   ]
  },
  {
   "cell_type": "markdown",
   "id": "a2ab6e0b",
   "metadata": {
    "papermill": {
     "duration": 0.036233,
     "end_time": "2023-08-21T04:37:10.316347",
     "exception": false,
     "start_time": "2023-08-21T04:37:10.280114",
     "status": "completed"
    },
    "tags": []
   },
   "source": [
    "## Distribution by Marital Status"
   ]
  },
  {
   "cell_type": "code",
   "execution_count": 592,
   "id": "7de424d0",
   "metadata": {
    "execution": {
     "iopub.execute_input": "2023-08-21T04:37:10.391616Z",
     "iopub.status.busy": "2023-08-21T04:37:10.390964Z",
     "iopub.status.idle": "2023-08-21T04:37:10.638512Z",
     "shell.execute_reply": "2023-08-21T04:37:10.637029Z"
    },
    "papermill": {
     "duration": 0.28835,
     "end_time": "2023-08-21T04:37:10.641329",
     "exception": false,
     "start_time": "2023-08-21T04:37:10.352979",
     "status": "completed"
    },
    "tags": []
   },
   "outputs": [
    {
     "data": {
      "image/png": "[encoded data removed]",
      "text/plain": [
       "<Figure size 800x500 with 1 Axes>"
      ]
     },
     "metadata": {},
     "output_type": "display_data"
    }
   ],
   "source": [
    "# Create plot\n",
    "sns.set(rc={'figure.figsize':(8, 5)})\n",
    "sns.set_style('ticks')\n",
    "sns.countplot(df, x='Marital status', hue='Status', palette='pastel')\n",
    "\n",
    "# Change the x tick labels to the corresponding status\n",
    "plt.xticks(ticks=[0, 1, 2, 3, 4, 5], labels=['Single', 'Married', 'Widower', \n",
    "                                            'Divorced', 'Defacto union', 'Legally separated'],\n",
    "                                            rotation=0)\n",
    "# Customize the labels\n",
    "plt.ylabel('Total Students')\n",
    "plt.xlabel(None)\n",
    "plt.title('Marital Status and Status', pad=20)\n",
    "\n",
    "plt.show()"
   ]
  },
  {
   "cell_type": "markdown",
   "id": "02646c0c",
   "metadata": {
    "papermill": {
     "duration": 0.03714,
     "end_time": "2023-08-21T04:37:10.718195",
     "exception": false,
     "start_time": "2023-08-21T04:37:10.681055",
     "status": "completed"
    },
    "tags": []
   },
   "source": [
    "It can be observed that most of the students were single and more of the single students graduated relative to the married students. \n",
    "Due to the significant imbalance of marital status leaning toward Single students, marital status is not likely to be a significant influence on overall student success. "
   ]
  },
  {
   "cell_type": "markdown",
   "id": "0d4cd900",
   "metadata": {},
   "source": [
    "## Distribution of Status  by International/ Non International Students"
   ]
  },
  {
   "cell_type": "code",
   "execution_count": 585,
   "id": "b9683f36",
   "metadata": {},
   "outputs": [
    {
     "data": {
      "image/png": "[encoded data removed]",
      "text/plain": [
       "<Figure size 700x500 with 1 Axes>"
      ]
     },
     "metadata": {},
     "output_type": "display_data"
    }
   ],
   "source": [
    "# Create the plot\n",
    "sns.set_style('ticks')\n",
    "sns.countplot(df, x='International', hue='Status', palette='pastel')\n",
    "\n",
    "# Customize the labels\n",
    "plt.title('Distribution of International Students', pad=20)\n",
    "plt.ylabel('Total Students')\n",
    "plt.xticks(ticks=[0,1], labels=['No','Yes'])\n",
    "plt.legend(labels=[\"Graduate\", \"Dropout\"], title='Status', bbox_to_anchor=(1, 1))\n",
    "\n",
    "plt.show()"
   ]
  },
  {
   "cell_type": "markdown",
   "id": "84b1779e",
   "metadata": {},
   "source": [
    "It can be observed that most of the students that were in the institution are nationals of the country and few are international students. Also, generally most of the students graduate whether international or not "
   ]
  },
  {
   "cell_type": "markdown",
   "id": "bf56f6ae",
   "metadata": {
    "papermill": {
     "duration": 0.037917,
     "end_time": "2023-08-21T04:37:10.794642",
     "exception": false,
     "start_time": "2023-08-21T04:37:10.756725",
     "status": "completed"
    },
    "tags": []
   },
   "source": [
    "## Distribution of Status  by Course Program"
   ]
  },
  {
   "cell_type": "code",
   "execution_count": 593,
   "id": "b64daea3",
   "metadata": {
    "execution": {
     "iopub.execute_input": "2023-08-21T04:37:10.871226Z",
     "iopub.status.busy": "2023-08-21T04:37:10.870526Z",
     "iopub.status.idle": "2023-08-21T04:37:11.215740Z",
     "shell.execute_reply": "2023-08-21T04:37:11.214019Z"
    },
    "papermill": {
     "duration": 0.386011,
     "end_time": "2023-08-21T04:37:11.217673",
     "exception": false,
     "start_time": "2023-08-21T04:37:10.831662",
     "status": "completed"
    },
    "tags": []
   },
   "outputs": [
    {
     "data": {
      "image/png": "[encoded data removed]",
      "text/plain": [
       "<Figure size 800x500 with 1 Axes>"
      ]
     },
     "metadata": {},
     "output_type": "display_data"
    }
   ],
   "source": [
    "# Group by Course and Target\n",
    "student_courses = df.groupby(['Course', 'Status']).size().reset_index().pivot(columns='Status', index='Course', values=0)\n",
    "student_courses = student_courses.rename(index={1: 'Biofuel Production Technologies',\n",
    "                                                2: 'Animation and Multimedia Design',\n",
    "                                                3: 'Social Service (evening attendance)',\n",
    "                                                4: 'Agronomy',\n",
    "                                                5: 'Communication Design',\n",
    "                                                6: 'Veterinary Nursing',\n",
    "                                                7: 'Informatics Engineering',\n",
    "                                                8: 'Equinculture',\n",
    "                                                9: 'Management',\n",
    "                                                10: 'Social Service',\n",
    "                                                11: 'Tourism',\n",
    "                                                12: 'Nursing',\n",
    "                                                13: 'Oral Hygiene',\n",
    "                                                14: 'Advertising and Marketing Management',\n",
    "                                                15: 'Journalism and Communication',\n",
    "                                                16: 'Basic Education',\n",
    "                                                17: 'Management (evening attendance)'})\n",
    "\n",
    "# Sum the total number of students for each course and sort for the plot\n",
    "student_courses['Total'] = student_courses.sum(axis=1)\n",
    "student_courses_sorted = student_courses.sort_values(by='Total', ascending=True)\n",
    "\n",
    "# Remove the 'Total' column\n",
    "student_courses_sorted.drop(columns='Total', inplace=True)\n",
    "\n",
    "# Generate the plot\n",
    "sns.set(rc={'figure.figsize':(8, 5)})\n",
    "sns.set_style('ticks')\n",
    "sns.set_palette('pastel')\n",
    "course_plot = student_courses_sorted.plot(kind='barh', stacked=False)\n",
    "\n",
    "# Customize the labels\n",
    "plt.title('Distribution of Status by Course', pad=20)\n",
    "plt.legend(labels=[\"Dropout\", \"Graduate\"], title='Status', bbox_to_anchor=(1, 1))\n",
    "plt.xlabel('Total Students')\n",
    "plt.ylabel(None)\n",
    "\n",
    "plt.show()\n"
   ]
  },
  {
   "cell_type": "markdown",
   "id": "92a3c891",
   "metadata": {},
   "source": [
    "It can be seen that for most of the course programs, students graduate than drop out aside from Management (evening attendance), Basic Education, Equinculture, and Informatics Engineering. "
   ]
  },
  {
   "cell_type": "markdown",
   "id": "1133a41a",
   "metadata": {
    "papermill": {
     "duration": 0.035969,
     "end_time": "2023-08-21T04:37:11.290492",
     "exception": false,
     "start_time": "2023-08-21T04:37:11.254523",
     "status": "completed"
    },
    "tags": []
   },
   "source": [
    "## Distribution of Drop out by Course Program"
   ]
  },
  {
   "cell_type": "code",
   "execution_count": 103,
   "id": "82f0b049",
   "metadata": {
    "execution": {
     "iopub.execute_input": "2023-08-21T04:37:11.368424Z",
     "iopub.status.busy": "2023-08-21T04:37:11.367781Z",
     "iopub.status.idle": "2023-08-21T04:37:11.661751Z",
     "shell.execute_reply": "2023-08-21T04:37:11.660396Z"
    },
    "papermill": {
     "duration": 0.336049,
     "end_time": "2023-08-21T04:37:11.664336",
     "exception": false,
     "start_time": "2023-08-21T04:37:11.328287",
     "status": "completed"
    },
    "tags": []
   },
   "outputs": [
    {
     "data": {
      "image/png": "[encoded data removed]",
      "text/plain": [
       "<Figure size 800x500 with 1 Axes>"
      ]
     },
     "metadata": {},
     "output_type": "display_data"
    }
   ],
   "source": [
    "course_names = {1: 'Biofuel Production Technologies',\n",
    "                                                2: 'Animation and Multimedia Design',\n",
    "                                                3: 'Social Service (evening attendance)',\n",
    "                                                4: 'Agronomy',\n",
    "                                                5: 'Communication Design',\n",
    "                                                6: 'Veterinary Nursing',\n",
    "                                                7: 'Informatics Engineering',\n",
    "                                                8: 'Equinculture',\n",
    "                                                9: 'Management',\n",
    "                                                10: 'Social Service',\n",
    "                                                11: 'Tourism',\n",
    "                                                12: 'Nursing',\n",
    "                                                13: 'Oral Hygiene',\n",
    "                                                14: 'Advertising and Marketing Management',\n",
    "                                                15: 'Journalism and Communication',\n",
    "                                                16: 'Basic Education',\n",
    "                                                17: 'Management (evening attendance)'}\n",
    "df2 = df.copy()\n",
    "df2['Course'] = df2['Course'].map(course_names)\n",
    "\n",
    "# Calculate dropout percentages and sort in descending order\n",
    "dropout_counts = df2.groupby('Course')['Status'].apply(lambda x: (x == 'Dropout').sum())\n",
    "total_counts = df2['Course'].value_counts()\n",
    "\n",
    "dropout_percentages = (dropout_counts / total_counts) * 100\n",
    "dropout_percentages_sorted = dropout_percentages.sort_values(ascending=False)\n",
    "\n",
    "# Convert to Data Frame\n",
    "dropout_rate_df = pd.DataFrame({\n",
    "    'Course': dropout_percentages_sorted.index,\n",
    "    'Dropout Rate': dropout_percentages_sorted.values\n",
    "})\n",
    "\n",
    "# Visualize in a horizontal bar plot\n",
    "sns.set_style('ticks')\n",
    "sns.barplot(dropout_rate_df, x='Dropout Rate', y='Course', \n",
    "            color='dodgerblue', alpha=0.5)\n",
    "\n",
    "# Style the plot\n",
    "plt.title('Dropout Rate by Course', pad=20)\n",
    "plt.xlabel('Dropout Rate (%)')\n",
    "plt.ylabel(None)\n",
    "\n",
    "plt.show()"
   ]
  },
  {
   "cell_type": "markdown",
   "id": "90b960a0",
   "metadata": {},
   "source": [
    "It can be seen that Nursing has the lowest drop out rate and Biofuel Production Technology. There are some interesting insights that may indicate some courses are more challenging for students to complete than others. 7 out of 17 courses have over 50% dropout rate."
   ]
  },
  {
   "cell_type": "markdown",
   "id": "2e2380ac",
   "metadata": {},
   "source": [
    "## Distribution of Status by Time of Attendance"
   ]
  },
  {
   "cell_type": "code",
   "execution_count": 608,
   "id": "08b03943",
   "metadata": {},
   "outputs": [
    {
     "data": {
      "image/png": "[encoded data removed]",
      "text/plain": [
       "<Figure size 700x300 with 1 Axes>"
      ]
     },
     "metadata": {},
     "output_type": "display_data"
    }
   ],
   "source": [
    "sns.set_style('ticks')\n",
    "sns.countplot(df, x='Daytime/evening attendance', hue='Status', palette='pastel')\n",
    "\n",
    "plt.xticks(ticks=[0,1], labels=['Evening', 'Daytime'])\n",
    "plt.ylabel('Total Students')\n",
    "plt.xlabel(None)\n",
    "plt.title('Distribution of Status by Type of Attendance', pad=20)\n",
    "\n",
    "plt.show()"
   ]
  },
  {
   "cell_type": "markdown",
   "id": "f55565a6",
   "metadata": {},
   "source": [
    "It can be observed that students who attend classes in the Daytime are less likely to drop out and most of the students are evening students. "
   ]
  },
  {
   "cell_type": "markdown",
   "id": "baa7d9ff",
   "metadata": {},
   "source": [
    "## Distribution of Status by Funding Sources "
   ]
  },
  {
   "cell_type": "code",
   "execution_count": 114,
   "id": "8f9d0f8c",
   "metadata": {},
   "outputs": [
    {
     "data": {
      "image/png": "[encoded data removed]",
      "text/plain": [
       "<Figure size 800x500 with 1 Axes>"
      ]
     },
     "metadata": {},
     "output_type": "display_data"
    }
   ],
   "source": [
    "sns.set_style('ticks')\n",
    "sns.countplot(df, x='Scholarship holder', hue='Status', palette='pastel')\n",
    "\n",
    "plt.xticks(ticks=[0,1], labels=['External', 'Scholarship'])\n",
    "plt.ylabel('Total Students')\n",
    "plt.xlabel(None)\n",
    "plt.title('Distribution of Status by Funding Sources', pad=20)\n",
    "\n",
    "plt.show()"
   ]
  },
  {
   "cell_type": "markdown",
   "id": "d73b9b68",
   "metadata": {},
   "source": [
    "It can observed that funding status does not significantly affect whether a student drop outs or not. \n",
    "However, students with scholarships are less likely to drop out relative to students with external funding"
   ]
  },
  {
   "cell_type": "markdown",
   "id": "5f55692e",
   "metadata": {},
   "source": [
    "## Distribution of Status by Debt Status"
   ]
  },
  {
   "cell_type": "code",
   "execution_count": 115,
   "id": "ab08eb0c",
   "metadata": {},
   "outputs": [
    {
     "data": {
      "image/png": "[encoded data removed]",
      "text/plain": [
       "<Figure size 800x500 with 1 Axes>"
      ]
     },
     "metadata": {},
     "output_type": "display_data"
    }
   ],
   "source": [
    "sns.set_style('ticks')\n",
    "sns.countplot(df, x='Debtor', hue='Status', palette='pastel')\n",
    "\n",
    "plt.xticks(ticks=[0,1], labels=['Not Debtor', 'Debtor'])\n",
    "plt.ylabel('Total Students')\n",
    "plt.xlabel(None)\n",
    "plt.title('Distribution of Status by Debt Status', pad=20)\n",
    "\n",
    "plt.show()"
   ]
  },
  {
   "cell_type": "markdown",
   "id": "15d6d021",
   "metadata": {},
   "source": [
    "The above visulaization show that students who are in debt are more likely to drop out relative to students who \n",
    "do not have debt"
   ]
  },
  {
   "cell_type": "code",
   "execution_count": 223,
   "id": "53262625",
   "metadata": {},
   "outputs": [],
   "source": [
    "# Demographic\n",
    "demographics = df[[\"Marital status\", \"Nationality\", \"Displaced\", \"Gender\", \n",
    "                   \"Age at enrollment\", \"International\", \"Status_binary\"]]\n",
    "# Academic\n",
    "academic_path = df[['Curricular units 1st sem (credited)',\n",
    "       'Curricular units 1st sem (enrolled)',\n",
    "       'Curricular units 1st sem (evaluations)',\n",
    "       'Curricular units 1st sem (approved)',\n",
    "       'Curricular units 1st sem (grade)',\n",
    "       'Curricular units 1st sem (without evaluations)',\n",
    "       'Curricular units 2nd sem (credited)',\n",
    "       'Curricular units 2nd sem (enrolled)',\n",
    "       'Curricular units 2nd sem (evaluations)',\n",
    "       'Curricular units 2nd sem (approved)',\n",
    "       'Curricular units 2nd sem (grade)',\n",
    "       'Curricular units 2nd sem (without evaluations)',\n",
    "       'Status_binary']]"
   ]
  },
  {
   "cell_type": "markdown",
   "id": "c9ff9288",
   "metadata": {},
   "source": [
    "## Demographic Heatmap - Collinearity between Demographic Variables"
   ]
  },
  {
   "cell_type": "code",
   "execution_count": 224,
   "id": "0d59c17b",
   "metadata": {},
   "outputs": [
    {
     "data": {
      "text/plain": [
       "Text(0.5, 1.0, 'Demographics Collinearity Heatmap')"
      ]
     },
     "execution_count": 224,
     "metadata": {},
     "output_type": "execute_result"
    },
    {
     "data": {
      "image/png": "[encoded data removed]",
      "text/plain": [
       "<Figure size 700x500 with 2 Axes>"
      ]
     },
     "metadata": {},
     "output_type": "display_data"
    }
   ],
   "source": [
    "sns.set(rc={\"figure.figsize\": (7, 5)})\n",
    "sns.heatmap(demographics.corr().round(2), linewidths=0.5,\n",
    "            annot=True, annot_kws={\"size\": 8},\n",
    "            cmap=sns.color_palette(\"vlag_r\"))\n",
    "\n",
    "plt.title('Demographics Collinearity Heatmap', pad=20)"
   ]
  },
  {
   "cell_type": "markdown",
   "id": "7b615d9f",
   "metadata": {},
   "source": [
    "From the correlation analysis aboive, it can be found that Gender and Age has the highest correlation with whether a student drop out or graduate. Specifically, it states that students with high age of enrollment are less likely to graduate. In terms of age, it states that males are less likely to graduate "
   ]
  },
  {
   "cell_type": "markdown",
   "id": "6cc0731f",
   "metadata": {},
   "source": [
    "## Academic Heatmap - Collinearity between Academic Variables"
   ]
  },
  {
   "cell_type": "code",
   "execution_count": 595,
   "id": "fdd60c7d",
   "metadata": {},
   "outputs": [
    {
     "data": {
      "image/png": "[encoded data removed]",
      "text/plain": [
       "<Figure size 700x300 with 2 Axes>"
      ]
     },
     "metadata": {},
     "output_type": "display_data"
    }
   ],
   "source": [
    "# Create the plot\n",
    "sns.set(rc={\"figure.figsize\": (7, 3)})\n",
    "sns.heatmap(academic_path.corr().round(2), linewidths=0.5,\n",
    "            annot=True, annot_kws={\"size\": 8},\n",
    "            cmap=sns.color_palette(\"vlag_r\"))\n",
    "# Customize the labels\n",
    "plt.title('Academic Path Collinearity', pad=20)\n",
    "\n",
    "plt.show()"
   ]
  },
  {
   "cell_type": "markdown",
   "id": "c976e4cd",
   "metadata": {},
   "source": [
    "In terms of academics, second semester grade has the highest correlation with whether a student drop out or graduates"
   ]
  },
  {
   "cell_type": "markdown",
   "id": "e646ffac",
   "metadata": {
    "papermill": {
     "duration": 0.0372,
     "end_time": "2023-08-21T04:37:11.818481",
     "exception": false,
     "start_time": "2023-08-21T04:37:11.781281",
     "status": "completed"
    },
    "tags": []
   },
   "source": [
    "# Feature Selection"
   ]
  },
  {
   "cell_type": "markdown",
   "id": "0baa5740",
   "metadata": {
    "papermill": {
     "duration": 0.039345,
     "end_time": "2023-08-21T04:37:11.895151",
     "exception": false,
     "start_time": "2023-08-21T04:37:11.855806",
     "status": "completed"
    },
    "tags": []
   },
   "source": [
    "## Transform the Target variable"
   ]
  },
  {
   "cell_type": "code",
   "execution_count": 596,
   "id": "da60c418",
   "metadata": {
    "execution": {
     "iopub.execute_input": "2023-08-21T04:37:15.244256Z",
     "iopub.status.busy": "2023-08-21T04:37:15.243905Z",
     "iopub.status.idle": "2023-08-21T04:37:15.250476Z",
     "shell.execute_reply": "2023-08-21T04:37:15.249521Z"
    },
    "papermill": {
     "duration": 0.053651,
     "end_time": "2023-08-21T04:37:15.252471",
     "exception": false,
     "start_time": "2023-08-21T04:37:15.198820",
     "status": "completed"
    },
    "tags": []
   },
   "outputs": [
    {
     "data": {
      "text/plain": [
       "['Nationality', 'International', 'Status']"
      ]
     },
     "execution_count": 596,
     "metadata": {},
     "output_type": "execute_result"
    }
   ],
   "source": [
    "features_to_drop = ['Nationality', 'International', 'Status']\n",
    "features_to_drop"
   ]
  },
  {
   "cell_type": "code",
   "execution_count": 597,
   "id": "e252414d",
   "metadata": {},
   "outputs": [
    {
     "data": {
      "text/plain": [
       "['Nationality',\n",
       " 'International',\n",
       " 'Status',\n",
       " 'Curricular units 1st sem (credited)',\n",
       " 'Curricular units 1st sem (enrolled)',\n",
       " 'Curricular units 1st sem (evaluations)',\n",
       " 'Curricular units 1st sem (approved)',\n",
       " 'Curricular units 1st sem (grade)',\n",
       " 'Curricular units 1st sem (without evaluations)',\n",
       " 'Curricular units 2nd sem (credited)',\n",
       " 'Curricular units 2nd sem (without evaluations)']"
      ]
     },
     "execution_count": 597,
     "metadata": {},
     "output_type": "execute_result"
    }
   ],
   "source": [
    "features_to_drop.extend(['Curricular units 1st sem (credited)', \n",
    "                           'Curricular units 1st sem (enrolled)',\n",
    "                           'Curricular units 1st sem (evaluations)', \n",
    "                           'Curricular units 1st sem (approved)',\n",
    "                           'Curricular units 1st sem (grade)', \n",
    "                           'Curricular units 1st sem (without evaluations)',\n",
    "                           'Curricular units 2nd sem (credited)',\n",
    "                           'Curricular units 2nd sem (without evaluations)']\n",
    ")\n",
    "features_to_drop"
   ]
  },
  {
   "cell_type": "markdown",
   "id": "4b04fed1",
   "metadata": {
    "papermill": {
     "duration": 0.044837,
     "end_time": "2023-08-21T04:37:16.506815",
     "exception": false,
     "start_time": "2023-08-21T04:37:16.461978",
     "status": "completed"
    },
    "tags": []
   },
   "source": [
    "## Drop Features"
   ]
  },
  {
   "cell_type": "code",
   "execution_count": 598,
   "id": "23e5d772",
   "metadata": {
    "execution": {
     "iopub.execute_input": "2023-08-21T04:37:16.597899Z",
     "iopub.status.busy": "2023-08-21T04:37:16.597252Z",
     "iopub.status.idle": "2023-08-21T04:37:16.616993Z",
     "shell.execute_reply": "2023-08-21T04:37:16.616097Z"
    },
    "papermill": {
     "duration": 0.066983,
     "end_time": "2023-08-21T04:37:16.618938",
     "exception": false,
     "start_time": "2023-08-21T04:37:16.551955",
     "status": "completed"
    },
    "tags": []
   },
   "outputs": [
    {
     "data": {
      "text/html": [
       "<div>\n",
       "<style scoped>\n",
       "    .dataframe tbody tr th:only-of-type {\n",
       "        vertical-align: middle;\n",
       "    }\n",
       "\n",
       "    .dataframe tbody tr th {\n",
       "        vertical-align: top;\n",
       "    }\n",
       "\n",
       "    .dataframe thead th {\n",
       "        text-align: right;\n",
       "    }\n",
       "</style>\n",
       "<table border=\"1\" class=\"dataframe\">\n",
       "  <thead>\n",
       "    <tr style=\"text-align: right;\">\n",
       "      <th></th>\n",
       "      <th>Marital status</th>\n",
       "      <th>Application mode</th>\n",
       "      <th>Application order</th>\n",
       "      <th>Course</th>\n",
       "      <th>Daytime/evening attendance</th>\n",
       "      <th>Previous qualification</th>\n",
       "      <th>Mother's qualification</th>\n",
       "      <th>Father's qualification</th>\n",
       "      <th>Mother's occupation</th>\n",
       "      <th>Father's occupation</th>\n",
       "      <th>Displaced</th>\n",
       "      <th>Educational special needs</th>\n",
       "      <th>Debtor</th>\n",
       "      <th>Tuition fees up to date</th>\n",
       "      <th>Gender</th>\n",
       "      <th>Scholarship holder</th>\n",
       "      <th>Age at enrollment</th>\n",
       "      <th>Curricular units 2nd sem (enrolled)</th>\n",
       "      <th>Curricular units 2nd sem (evaluations)</th>\n",
       "      <th>Curricular units 2nd sem (approved)</th>\n",
       "      <th>Curricular units 2nd sem (grade)</th>\n",
       "      <th>Unemployment rate</th>\n",
       "      <th>Inflation rate</th>\n",
       "      <th>GDP</th>\n",
       "      <th>Status_binary</th>\n",
       "      <th>Attendance Type</th>\n",
       "    </tr>\n",
       "  </thead>\n",
       "  <tbody>\n",
       "    <tr>\n",
       "      <th>0</th>\n",
       "      <td>1</td>\n",
       "      <td>8</td>\n",
       "      <td>5</td>\n",
       "      <td>2</td>\n",
       "      <td>1</td>\n",
       "      <td>1</td>\n",
       "      <td>13</td>\n",
       "      <td>10</td>\n",
       "      <td>6</td>\n",
       "      <td>10</td>\n",
       "      <td>1</td>\n",
       "      <td>0</td>\n",
       "      <td>0</td>\n",
       "      <td>1</td>\n",
       "      <td>1</td>\n",
       "      <td>0</td>\n",
       "      <td>20</td>\n",
       "      <td>0</td>\n",
       "      <td>0</td>\n",
       "      <td>0</td>\n",
       "      <td>0.00000</td>\n",
       "      <td>10.8</td>\n",
       "      <td>1.4</td>\n",
       "      <td>1.74</td>\n",
       "      <td>False</td>\n",
       "      <td>Daytime</td>\n",
       "    </tr>\n",
       "    <tr>\n",
       "      <th>1</th>\n",
       "      <td>1</td>\n",
       "      <td>6</td>\n",
       "      <td>1</td>\n",
       "      <td>11</td>\n",
       "      <td>1</td>\n",
       "      <td>1</td>\n",
       "      <td>1</td>\n",
       "      <td>3</td>\n",
       "      <td>4</td>\n",
       "      <td>4</td>\n",
       "      <td>1</td>\n",
       "      <td>0</td>\n",
       "      <td>0</td>\n",
       "      <td>0</td>\n",
       "      <td>1</td>\n",
       "      <td>0</td>\n",
       "      <td>19</td>\n",
       "      <td>6</td>\n",
       "      <td>6</td>\n",
       "      <td>6</td>\n",
       "      <td>13.66667</td>\n",
       "      <td>13.9</td>\n",
       "      <td>-0.3</td>\n",
       "      <td>0.79</td>\n",
       "      <td>True</td>\n",
       "      <td>Daytime</td>\n",
       "    </tr>\n",
       "    <tr>\n",
       "      <th>2</th>\n",
       "      <td>1</td>\n",
       "      <td>1</td>\n",
       "      <td>5</td>\n",
       "      <td>5</td>\n",
       "      <td>1</td>\n",
       "      <td>1</td>\n",
       "      <td>22</td>\n",
       "      <td>27</td>\n",
       "      <td>10</td>\n",
       "      <td>10</td>\n",
       "      <td>1</td>\n",
       "      <td>0</td>\n",
       "      <td>0</td>\n",
       "      <td>0</td>\n",
       "      <td>1</td>\n",
       "      <td>0</td>\n",
       "      <td>19</td>\n",
       "      <td>6</td>\n",
       "      <td>0</td>\n",
       "      <td>0</td>\n",
       "      <td>0.00000</td>\n",
       "      <td>10.8</td>\n",
       "      <td>1.4</td>\n",
       "      <td>1.74</td>\n",
       "      <td>False</td>\n",
       "      <td>Daytime</td>\n",
       "    </tr>\n",
       "    <tr>\n",
       "      <th>3</th>\n",
       "      <td>1</td>\n",
       "      <td>8</td>\n",
       "      <td>2</td>\n",
       "      <td>15</td>\n",
       "      <td>1</td>\n",
       "      <td>1</td>\n",
       "      <td>23</td>\n",
       "      <td>27</td>\n",
       "      <td>6</td>\n",
       "      <td>4</td>\n",
       "      <td>1</td>\n",
       "      <td>0</td>\n",
       "      <td>0</td>\n",
       "      <td>1</td>\n",
       "      <td>0</td>\n",
       "      <td>0</td>\n",
       "      <td>20</td>\n",
       "      <td>6</td>\n",
       "      <td>10</td>\n",
       "      <td>5</td>\n",
       "      <td>12.40000</td>\n",
       "      <td>9.4</td>\n",
       "      <td>-0.8</td>\n",
       "      <td>-3.12</td>\n",
       "      <td>True</td>\n",
       "      <td>Daytime</td>\n",
       "    </tr>\n",
       "    <tr>\n",
       "      <th>4</th>\n",
       "      <td>2</td>\n",
       "      <td>12</td>\n",
       "      <td>1</td>\n",
       "      <td>3</td>\n",
       "      <td>0</td>\n",
       "      <td>1</td>\n",
       "      <td>22</td>\n",
       "      <td>28</td>\n",
       "      <td>10</td>\n",
       "      <td>10</td>\n",
       "      <td>0</td>\n",
       "      <td>0</td>\n",
       "      <td>0</td>\n",
       "      <td>1</td>\n",
       "      <td>0</td>\n",
       "      <td>0</td>\n",
       "      <td>45</td>\n",
       "      <td>6</td>\n",
       "      <td>6</td>\n",
       "      <td>6</td>\n",
       "      <td>13.00000</td>\n",
       "      <td>13.9</td>\n",
       "      <td>-0.3</td>\n",
       "      <td>0.79</td>\n",
       "      <td>True</td>\n",
       "      <td>Evening</td>\n",
       "    </tr>\n",
       "  </tbody>\n",
       "</table>\n",
       "</div>"
      ],
      "text/plain": [
       "   Marital status  Application mode  Application order  Course  \\\n",
       "0               1                 8                  5       2   \n",
       "1               1                 6                  1      11   \n",
       "2               1                 1                  5       5   \n",
       "3               1                 8                  2      15   \n",
       "4               2                12                  1       3   \n",
       "\n",
       "   Daytime/evening attendance  Previous qualification  Mother's qualification  \\\n",
       "0                           1                       1                      13   \n",
       "1                           1                       1                       1   \n",
       "2                           1                       1                      22   \n",
       "3                           1                       1                      23   \n",
       "4                           0                       1                      22   \n",
       "\n",
       "   Father's qualification  Mother's occupation  Father's occupation  \\\n",
       "0                      10                    6                   10   \n",
       "1                       3                    4                    4   \n",
       "2                      27                   10                   10   \n",
       "3                      27                    6                    4   \n",
       "4                      28                   10                   10   \n",
       "\n",
       "   Displaced  Educational special needs  Debtor  Tuition fees up to date  \\\n",
       "0          1                          0       0                        1   \n",
       "1          1                          0       0                        0   \n",
       "2          1                          0       0                        0   \n",
       "3          1                          0       0                        1   \n",
       "4          0                          0       0                        1   \n",
       "\n",
       "   Gender  Scholarship holder  Age at enrollment  \\\n",
       "0       1                   0                 20   \n",
       "1       1                   0                 19   \n",
       "2       1                   0                 19   \n",
       "3       0                   0                 20   \n",
       "4       0                   0                 45   \n",
       "\n",
       "   Curricular units 2nd sem (enrolled)  \\\n",
       "0                                    0   \n",
       "1                                    6   \n",
       "2                                    6   \n",
       "3                                    6   \n",
       "4                                    6   \n",
       "\n",
       "   Curricular units 2nd sem (evaluations)  \\\n",
       "0                                       0   \n",
       "1                                       6   \n",
       "2                                       0   \n",
       "3                                      10   \n",
       "4                                       6   \n",
       "\n",
       "   Curricular units 2nd sem (approved)  Curricular units 2nd sem (grade)  \\\n",
       "0                                    0                           0.00000   \n",
       "1                                    6                          13.66667   \n",
       "2                                    0                           0.00000   \n",
       "3                                    5                          12.40000   \n",
       "4                                    6                          13.00000   \n",
       "\n",
       "   Unemployment rate  Inflation rate   GDP  Status_binary Attendance Type  \n",
       "0               10.8             1.4  1.74          False         Daytime  \n",
       "1               13.9            -0.3  0.79           True         Daytime  \n",
       "2               10.8             1.4  1.74          False         Daytime  \n",
       "3                9.4            -0.8 -3.12           True         Daytime  \n",
       "4               13.9            -0.3  0.79           True         Evening  "
      ]
     },
     "execution_count": 598,
     "metadata": {},
     "output_type": "execute_result"
    }
   ],
   "source": [
    "df.drop(features_to_drop, axis=1, inplace=True)\n",
    "df.head()"
   ]
  },
  {
   "cell_type": "markdown",
   "id": "a2e0f7ec",
   "metadata": {
    "papermill": {
     "duration": 0.045262,
     "end_time": "2023-08-21T04:37:16.712319",
     "exception": false,
     "start_time": "2023-08-21T04:37:16.667057",
     "status": "completed"
    },
    "tags": []
   },
   "source": [
    "Check each remaining variable's correlation with the target variable."
   ]
  },
  {
   "cell_type": "code",
   "execution_count": 481,
   "id": "7fd56229",
   "metadata": {
    "execution": {
     "iopub.execute_input": "2023-08-21T04:37:16.804426Z",
     "iopub.status.busy": "2023-08-21T04:37:16.803295Z",
     "iopub.status.idle": "2023-08-21T04:37:16.816844Z",
     "shell.execute_reply": "2023-08-21T04:37:16.815514Z"
    },
    "papermill": {
     "duration": 0.061308,
     "end_time": "2023-08-21T04:37:16.818980",
     "exception": false,
     "start_time": "2023-08-21T04:37:16.757672",
     "status": "completed"
    },
    "tags": []
   },
   "outputs": [
    {
     "data": {
      "text/plain": [
       "Marital status                           -0.10048\n",
       "Application mode                         -0.23389\n",
       "Application order                         0.09435\n",
       "Course                                    0.00681\n",
       "Daytime/evening attendance                0.08450\n",
       "Previous qualification                   -0.10279\n",
       "Mother's qualification                   -0.04846\n",
       "Father's qualification                   -0.00385\n",
       "Mother's occupation                       0.06420\n",
       "Father's occupation                       0.07324\n",
       "Displaced                                 0.12611\n",
       "Educational special needs                -0.00725\n",
       "Debtor                                   -0.26721\n",
       "Tuition fees up to date                   0.44214\n",
       "Gender                                   -0.25195\n",
       "Scholarship holder                        0.31302\n",
       "Age at enrollment                        -0.26723\n",
       "Curricular units 2nd sem (enrolled)       0.18290\n",
       "Curricular units 2nd sem (evaluations)    0.11924\n",
       "Curricular units 2nd sem (approved)       0.65400\n",
       "Curricular units 2nd sem (grade)          0.60535\n",
       "Unemployment rate                         0.00420\n",
       "Inflation rate                           -0.03033\n",
       "GDP                                       0.05026\n",
       "Status_binary                             1.00000\n",
       "Name: Status_binary, dtype: float64"
      ]
     },
     "execution_count": 481,
     "metadata": {},
     "output_type": "execute_result"
    }
   ],
   "source": [
    "df.corr()['Status_binary']"
   ]
  },
  {
   "cell_type": "markdown",
   "id": "43095673",
   "metadata": {
    "papermill": {
     "duration": 0.047176,
     "end_time": "2023-08-21T04:37:16.913125",
     "exception": false,
     "start_time": "2023-08-21T04:37:16.865949",
     "status": "completed"
    },
    "tags": []
   },
   "source": [
    "Since computational time is not an issue, and collinearity is at a minimum, I will leave the remaining features in the analysis."
   ]
  },
  {
   "cell_type": "markdown",
   "id": "3d0769ee",
   "metadata": {
    "papermill": {
     "duration": 0.046587,
     "end_time": "2023-08-21T04:37:17.005637",
     "exception": false,
     "start_time": "2023-08-21T04:37:16.959050",
     "status": "completed"
    },
    "tags": []
   },
   "source": [
    "# Logistic Regression"
   ]
  },
  {
   "cell_type": "markdown",
   "id": "67000d29",
   "metadata": {
    "papermill": {
     "duration": 0.045781,
     "end_time": "2023-08-21T04:37:17.096851",
     "exception": false,
     "start_time": "2023-08-21T04:37:17.051070",
     "status": "completed"
    },
    "tags": []
   },
   "source": [
    "## Scale the Data"
   ]
  },
  {
   "cell_type": "markdown",
   "id": "09e340bb",
   "metadata": {
    "papermill": {
     "duration": 0.046945,
     "end_time": "2023-08-21T04:37:17.190953",
     "exception": false,
     "start_time": "2023-08-21T04:37:17.144008",
     "status": "completed"
    },
    "tags": []
   },
   "source": [
    "Access the solution algorithm and instantiate as mm_scaler."
   ]
  },
  {
   "cell_type": "code",
   "execution_count": 482,
   "id": "c64c0103",
   "metadata": {
    "execution": {
     "iopub.execute_input": "2023-08-21T04:37:17.288433Z",
     "iopub.status.busy": "2023-08-21T04:37:17.287809Z",
     "iopub.status.idle": "2023-08-21T04:37:17.469759Z",
     "shell.execute_reply": "2023-08-21T04:37:17.468551Z"
    },
    "papermill": {
     "duration": 0.234118,
     "end_time": "2023-08-21T04:37:17.472099",
     "exception": false,
     "start_time": "2023-08-21T04:37:17.237981",
     "status": "completed"
    },
    "tags": []
   },
   "outputs": [],
   "source": [
    "from sklearn.preprocessing import MinMaxScaler\n",
    "mm_scaler = MinMaxScaler()"
   ]
  },
  {
   "cell_type": "markdown",
   "id": "91b83cfc",
   "metadata": {
    "papermill": {
     "duration": 0.044544,
     "end_time": "2023-08-21T04:37:17.562243",
     "exception": false,
     "start_time": "2023-08-21T04:37:17.517699",
     "status": "completed"
    },
    "tags": []
   },
   "source": [
    "Fit the scaler to the predictor variables."
   ]
  },
  {
   "cell_type": "code",
   "execution_count": 483,
   "id": "2d9f93b3",
   "metadata": {
    "execution": {
     "iopub.execute_input": "2023-08-21T04:37:17.658516Z",
     "iopub.status.busy": "2023-08-21T04:37:17.657933Z",
     "iopub.status.idle": "2023-08-21T04:37:17.667648Z",
     "shell.execute_reply": "2023-08-21T04:37:17.666006Z"
    },
    "papermill": {
     "duration": 0.061474,
     "end_time": "2023-08-21T04:37:17.670050",
     "exception": false,
     "start_time": "2023-08-21T04:37:17.608576",
     "status": "completed"
    },
    "tags": []
   },
   "outputs": [],
   "source": [
    "X_scaled = mm_scaler.fit_transform(df)"
   ]
  },
  {
   "cell_type": "markdown",
   "id": "ba9cdad6",
   "metadata": {
    "papermill": {
     "duration": 0.0467,
     "end_time": "2023-08-21T04:37:17.762781",
     "exception": false,
     "start_time": "2023-08-21T04:37:17.716081",
     "status": "completed"
    },
    "tags": []
   },
   "source": [
    "View the scaled data frame."
   ]
  },
  {
   "cell_type": "code",
   "execution_count": 484,
   "id": "b15fc59b",
   "metadata": {
    "execution": {
     "iopub.execute_input": "2023-08-21T04:37:17.858319Z",
     "iopub.status.busy": "2023-08-21T04:37:17.857617Z",
     "iopub.status.idle": "2023-08-21T04:37:17.885775Z",
     "shell.execute_reply": "2023-08-21T04:37:17.884927Z"
    },
    "papermill": {
     "duration": 0.079038,
     "end_time": "2023-08-21T04:37:17.887777",
     "exception": false,
     "start_time": "2023-08-21T04:37:17.808739",
     "status": "completed"
    },
    "tags": []
   },
   "outputs": [
    {
     "data": {
      "text/html": [
       "<div>\n",
       "<style scoped>\n",
       "    .dataframe tbody tr th:only-of-type {\n",
       "        vertical-align: middle;\n",
       "    }\n",
       "\n",
       "    .dataframe tbody tr th {\n",
       "        vertical-align: top;\n",
       "    }\n",
       "\n",
       "    .dataframe thead th {\n",
       "        text-align: right;\n",
       "    }\n",
       "</style>\n",
       "<table border=\"1\" class=\"dataframe\">\n",
       "  <thead>\n",
       "    <tr style=\"text-align: right;\">\n",
       "      <th></th>\n",
       "      <th>Marital status</th>\n",
       "      <th>Application mode</th>\n",
       "      <th>Application order</th>\n",
       "      <th>Course</th>\n",
       "      <th>Daytime/evening attendance</th>\n",
       "      <th>Previous qualification</th>\n",
       "      <th>Mother's qualification</th>\n",
       "      <th>Father's qualification</th>\n",
       "      <th>Mother's occupation</th>\n",
       "      <th>Father's occupation</th>\n",
       "      <th>Displaced</th>\n",
       "      <th>Educational special needs</th>\n",
       "      <th>Debtor</th>\n",
       "      <th>Tuition fees up to date</th>\n",
       "      <th>Gender</th>\n",
       "      <th>Scholarship holder</th>\n",
       "      <th>Age at enrollment</th>\n",
       "      <th>Curricular units 2nd sem (enrolled)</th>\n",
       "      <th>Curricular units 2nd sem (evaluations)</th>\n",
       "      <th>Curricular units 2nd sem (approved)</th>\n",
       "      <th>Curricular units 2nd sem (grade)</th>\n",
       "      <th>Unemployment rate</th>\n",
       "      <th>Inflation rate</th>\n",
       "      <th>GDP</th>\n",
       "      <th>Status_binary</th>\n",
       "    </tr>\n",
       "  </thead>\n",
       "  <tbody>\n",
       "    <tr>\n",
       "      <th>0</th>\n",
       "      <td>0.0</td>\n",
       "      <td>0.41176</td>\n",
       "      <td>0.83333</td>\n",
       "      <td>0.0625</td>\n",
       "      <td>1.0</td>\n",
       "      <td>0.0</td>\n",
       "      <td>0.42857</td>\n",
       "      <td>0.27273</td>\n",
       "      <td>0.16129</td>\n",
       "      <td>0.20000</td>\n",
       "      <td>1.0</td>\n",
       "      <td>0.0</td>\n",
       "      <td>0.0</td>\n",
       "      <td>1.0</td>\n",
       "      <td>1.0</td>\n",
       "      <td>0.0</td>\n",
       "      <td>0.05660</td>\n",
       "      <td>0.00000</td>\n",
       "      <td>0.00000</td>\n",
       "      <td>0.00</td>\n",
       "      <td>0.00000</td>\n",
       "      <td>0.37209</td>\n",
       "      <td>0.48889</td>\n",
       "      <td>0.76618</td>\n",
       "      <td>0.0</td>\n",
       "    </tr>\n",
       "    <tr>\n",
       "      <th>1</th>\n",
       "      <td>0.0</td>\n",
       "      <td>0.29412</td>\n",
       "      <td>0.16667</td>\n",
       "      <td>0.6250</td>\n",
       "      <td>1.0</td>\n",
       "      <td>0.0</td>\n",
       "      <td>0.00000</td>\n",
       "      <td>0.06061</td>\n",
       "      <td>0.09677</td>\n",
       "      <td>0.06667</td>\n",
       "      <td>1.0</td>\n",
       "      <td>0.0</td>\n",
       "      <td>0.0</td>\n",
       "      <td>0.0</td>\n",
       "      <td>1.0</td>\n",
       "      <td>0.0</td>\n",
       "      <td>0.03774</td>\n",
       "      <td>0.26087</td>\n",
       "      <td>0.18182</td>\n",
       "      <td>0.30</td>\n",
       "      <td>0.73590</td>\n",
       "      <td>0.73256</td>\n",
       "      <td>0.11111</td>\n",
       "      <td>0.64069</td>\n",
       "      <td>1.0</td>\n",
       "    </tr>\n",
       "    <tr>\n",
       "      <th>2</th>\n",
       "      <td>0.0</td>\n",
       "      <td>0.00000</td>\n",
       "      <td>0.83333</td>\n",
       "      <td>0.2500</td>\n",
       "      <td>1.0</td>\n",
       "      <td>0.0</td>\n",
       "      <td>0.75000</td>\n",
       "      <td>0.78788</td>\n",
       "      <td>0.29032</td>\n",
       "      <td>0.20000</td>\n",
       "      <td>1.0</td>\n",
       "      <td>0.0</td>\n",
       "      <td>0.0</td>\n",
       "      <td>0.0</td>\n",
       "      <td>1.0</td>\n",
       "      <td>0.0</td>\n",
       "      <td>0.03774</td>\n",
       "      <td>0.26087</td>\n",
       "      <td>0.00000</td>\n",
       "      <td>0.00</td>\n",
       "      <td>0.00000</td>\n",
       "      <td>0.37209</td>\n",
       "      <td>0.48889</td>\n",
       "      <td>0.76618</td>\n",
       "      <td>0.0</td>\n",
       "    </tr>\n",
       "    <tr>\n",
       "      <th>3</th>\n",
       "      <td>0.0</td>\n",
       "      <td>0.41176</td>\n",
       "      <td>0.33333</td>\n",
       "      <td>0.8750</td>\n",
       "      <td>1.0</td>\n",
       "      <td>0.0</td>\n",
       "      <td>0.78571</td>\n",
       "      <td>0.78788</td>\n",
       "      <td>0.16129</td>\n",
       "      <td>0.06667</td>\n",
       "      <td>1.0</td>\n",
       "      <td>0.0</td>\n",
       "      <td>0.0</td>\n",
       "      <td>1.0</td>\n",
       "      <td>0.0</td>\n",
       "      <td>0.0</td>\n",
       "      <td>0.05660</td>\n",
       "      <td>0.26087</td>\n",
       "      <td>0.30303</td>\n",
       "      <td>0.25</td>\n",
       "      <td>0.66769</td>\n",
       "      <td>0.20930</td>\n",
       "      <td>0.00000</td>\n",
       "      <td>0.12417</td>\n",
       "      <td>1.0</td>\n",
       "    </tr>\n",
       "    <tr>\n",
       "      <th>4</th>\n",
       "      <td>0.2</td>\n",
       "      <td>0.64706</td>\n",
       "      <td>0.16667</td>\n",
       "      <td>0.1250</td>\n",
       "      <td>0.0</td>\n",
       "      <td>0.0</td>\n",
       "      <td>0.75000</td>\n",
       "      <td>0.81818</td>\n",
       "      <td>0.29032</td>\n",
       "      <td>0.20000</td>\n",
       "      <td>0.0</td>\n",
       "      <td>0.0</td>\n",
       "      <td>0.0</td>\n",
       "      <td>1.0</td>\n",
       "      <td>0.0</td>\n",
       "      <td>0.0</td>\n",
       "      <td>0.52830</td>\n",
       "      <td>0.26087</td>\n",
       "      <td>0.18182</td>\n",
       "      <td>0.30</td>\n",
       "      <td>0.70000</td>\n",
       "      <td>0.73256</td>\n",
       "      <td>0.11111</td>\n",
       "      <td>0.64069</td>\n",
       "      <td>1.0</td>\n",
       "    </tr>\n",
       "  </tbody>\n",
       "</table>\n",
       "</div>"
      ],
      "text/plain": [
       "   Marital status  Application mode  Application order  Course  \\\n",
       "0             0.0           0.41176            0.83333  0.0625   \n",
       "1             0.0           0.29412            0.16667  0.6250   \n",
       "2             0.0           0.00000            0.83333  0.2500   \n",
       "3             0.0           0.41176            0.33333  0.8750   \n",
       "4             0.2           0.64706            0.16667  0.1250   \n",
       "\n",
       "   Daytime/evening attendance  Previous qualification  Mother's qualification  \\\n",
       "0                         1.0                     0.0                 0.42857   \n",
       "1                         1.0                     0.0                 0.00000   \n",
       "2                         1.0                     0.0                 0.75000   \n",
       "3                         1.0                     0.0                 0.78571   \n",
       "4                         0.0                     0.0                 0.75000   \n",
       "\n",
       "   Father's qualification  Mother's occupation  Father's occupation  \\\n",
       "0                 0.27273              0.16129              0.20000   \n",
       "1                 0.06061              0.09677              0.06667   \n",
       "2                 0.78788              0.29032              0.20000   \n",
       "3                 0.78788              0.16129              0.06667   \n",
       "4                 0.81818              0.29032              0.20000   \n",
       "\n",
       "   Displaced  Educational special needs  Debtor  Tuition fees up to date  \\\n",
       "0        1.0                        0.0     0.0                      1.0   \n",
       "1        1.0                        0.0     0.0                      0.0   \n",
       "2        1.0                        0.0     0.0                      0.0   \n",
       "3        1.0                        0.0     0.0                      1.0   \n",
       "4        0.0                        0.0     0.0                      1.0   \n",
       "\n",
       "   Gender  Scholarship holder  Age at enrollment  \\\n",
       "0     1.0                 0.0            0.05660   \n",
       "1     1.0                 0.0            0.03774   \n",
       "2     1.0                 0.0            0.03774   \n",
       "3     0.0                 0.0            0.05660   \n",
       "4     0.0                 0.0            0.52830   \n",
       "\n",
       "   Curricular units 2nd sem (enrolled)  \\\n",
       "0                              0.00000   \n",
       "1                              0.26087   \n",
       "2                              0.26087   \n",
       "3                              0.26087   \n",
       "4                              0.26087   \n",
       "\n",
       "   Curricular units 2nd sem (evaluations)  \\\n",
       "0                                 0.00000   \n",
       "1                                 0.18182   \n",
       "2                                 0.00000   \n",
       "3                                 0.30303   \n",
       "4                                 0.18182   \n",
       "\n",
       "   Curricular units 2nd sem (approved)  Curricular units 2nd sem (grade)  \\\n",
       "0                                 0.00                           0.00000   \n",
       "1                                 0.30                           0.73590   \n",
       "2                                 0.00                           0.00000   \n",
       "3                                 0.25                           0.66769   \n",
       "4                                 0.30                           0.70000   \n",
       "\n",
       "   Unemployment rate  Inflation rate      GDP  Status_binary  \n",
       "0            0.37209         0.48889  0.76618            0.0  \n",
       "1            0.73256         0.11111  0.64069            1.0  \n",
       "2            0.37209         0.48889  0.76618            0.0  \n",
       "3            0.20930         0.00000  0.12417            1.0  \n",
       "4            0.73256         0.11111  0.64069            1.0  "
      ]
     },
     "execution_count": 484,
     "metadata": {},
     "output_type": "execute_result"
    }
   ],
   "source": [
    "df[df.columns] = X_scaled\n",
    "df.head()"
   ]
  },
  {
   "cell_type": "markdown",
   "id": "112c53d1",
   "metadata": {
    "papermill": {
     "duration": 0.045726,
     "end_time": "2023-08-21T04:37:17.980997",
     "exception": false,
     "start_time": "2023-08-21T04:37:17.935271",
     "status": "completed"
    },
    "tags": []
   },
   "source": [
    "## Create Feature and Target Data Structures"
   ]
  },
  {
   "cell_type": "code",
   "execution_count": 485,
   "id": "a660ee48",
   "metadata": {
    "execution": {
     "iopub.execute_input": "2023-08-21T04:37:18.078886Z",
     "iopub.status.busy": "2023-08-21T04:37:18.077931Z",
     "iopub.status.idle": "2023-08-21T04:37:18.084250Z",
     "shell.execute_reply": "2023-08-21T04:37:18.083152Z"
    },
    "papermill": {
     "duration": 0.058521,
     "end_time": "2023-08-21T04:37:18.086168",
     "exception": false,
     "start_time": "2023-08-21T04:37:18.027647",
     "status": "completed"
    },
    "tags": []
   },
   "outputs": [],
   "source": [
    "X = df.drop('Status_binary', axis=1)\n",
    "y = df['Status_binary']"
   ]
  },
  {
   "cell_type": "markdown",
   "id": "31cc9055",
   "metadata": {
    "papermill": {
     "duration": 0.046095,
     "end_time": "2023-08-21T04:37:18.179198",
     "exception": false,
     "start_time": "2023-08-21T04:37:18.133103",
     "status": "completed"
    },
    "tags": []
   },
   "source": [
    "Check the shape of the X data structure."
   ]
  },
  {
   "cell_type": "code",
   "execution_count": 486,
   "id": "38459165",
   "metadata": {
    "execution": {
     "iopub.execute_input": "2023-08-21T04:37:18.278912Z",
     "iopub.status.busy": "2023-08-21T04:37:18.278199Z",
     "iopub.status.idle": "2023-08-21T04:37:18.285076Z",
     "shell.execute_reply": "2023-08-21T04:37:18.283817Z"
    },
    "papermill": {
     "duration": 0.058241,
     "end_time": "2023-08-21T04:37:18.287121",
     "exception": false,
     "start_time": "2023-08-21T04:37:18.228880",
     "status": "completed"
    },
    "tags": []
   },
   "outputs": [
    {
     "data": {
      "text/plain": [
       "(3630, 24)"
      ]
     },
     "execution_count": 486,
     "metadata": {},
     "output_type": "execute_result"
    }
   ],
   "source": [
    "X.shape"
   ]
  },
  {
   "cell_type": "markdown",
   "id": "85e6fe70",
   "metadata": {
    "papermill": {
     "duration": 0.046723,
     "end_time": "2023-08-21T04:37:18.382088",
     "exception": false,
     "start_time": "2023-08-21T04:37:18.335365",
     "status": "completed"
    },
    "tags": []
   },
   "source": [
    "Verify structure types."
   ]
  },
  {
   "cell_type": "code",
   "execution_count": 487,
   "id": "fb7e65e7",
   "metadata": {
    "execution": {
     "iopub.execute_input": "2023-08-21T04:37:18.477687Z",
     "iopub.status.busy": "2023-08-21T04:37:18.476824Z",
     "iopub.status.idle": "2023-08-21T04:37:18.482004Z",
     "shell.execute_reply": "2023-08-21T04:37:18.481147Z"
    },
    "papermill": {
     "duration": 0.054277,
     "end_time": "2023-08-21T04:37:18.483918",
     "exception": false,
     "start_time": "2023-08-21T04:37:18.429641",
     "status": "completed"
    },
    "tags": []
   },
   "outputs": [
    {
     "name": "stdout",
     "output_type": "stream",
     "text": [
      "X:  <class 'pandas.core.frame.DataFrame'>\n",
      "y:  <class 'pandas.core.series.Series'>\n"
     ]
    }
   ],
   "source": [
    "print(\"X: \", type(X))\n",
    "print(\"y: \", type(y))"
   ]
  },
  {
   "cell_type": "markdown",
   "id": "e77f721e",
   "metadata": {
    "papermill": {
     "duration": 0.04703,
     "end_time": "2023-08-21T04:37:18.578441",
     "exception": false,
     "start_time": "2023-08-21T04:37:18.531411",
     "status": "completed"
    },
    "tags": []
   },
   "source": [
    "## Fit Model With One Hold-Out Sample"
   ]
  },
  {
   "cell_type": "markdown",
   "id": "eae79b9b",
   "metadata": {
    "papermill": {
     "duration": 0.051407,
     "end_time": "2023-08-21T04:37:18.675665",
     "exception": false,
     "start_time": "2023-08-21T04:37:18.624258",
     "status": "completed"
    },
    "tags": []
   },
   "source": [
    "Split the data into train and testing data using sklearn. Save 30% of the data for testing, and stratify the target variable to keep equal proportions in each group."
   ]
  },
  {
   "cell_type": "code",
   "execution_count": 488,
   "id": "695ace28",
   "metadata": {
    "execution": {
     "iopub.execute_input": "2023-08-21T04:37:18.773867Z",
     "iopub.status.busy": "2023-08-21T04:37:18.773259Z",
     "iopub.status.idle": "2023-08-21T04:37:18.912452Z",
     "shell.execute_reply": "2023-08-21T04:37:18.911663Z"
    },
    "papermill": {
     "duration": 0.19064,
     "end_time": "2023-08-21T04:37:18.914948",
     "exception": false,
     "start_time": "2023-08-21T04:37:18.724308",
     "status": "completed"
    },
    "tags": []
   },
   "outputs": [],
   "source": [
    "from sklearn.model_selection import train_test_split\n",
    "X_train, X_test, y_train, y_test = train_test_split(X, y, test_size=.30,\n",
    "                                                    stratify=df['Status_binary'],\n",
    "                                                    random_state=1)"
   ]
  },
  {
   "cell_type": "markdown",
   "id": "042b0f5c",
   "metadata": {
    "papermill": {
     "duration": 0.046748,
     "end_time": "2023-08-21T04:37:19.011252",
     "exception": false,
     "start_time": "2023-08-21T04:37:18.964504",
     "status": "completed"
    },
    "tags": []
   },
   "source": [
    "Check that the stratify parameter worked by maintaining the same balance in the train/test data sets as the original data frame:"
   ]
  },
  {
   "cell_type": "code",
   "execution_count": 492,
   "id": "06916119",
   "metadata": {},
   "outputs": [],
   "source": [
    "X_train = X_train.astype(int)\n",
    "X_test=X_test.astype(int)\n",
    "y_train= y_train.astype(int)\n",
    "y_test= y_test.astype(int)"
   ]
  },
  {
   "cell_type": "code",
   "execution_count": 493,
   "id": "cfd5b859",
   "metadata": {
    "execution": {
     "iopub.execute_input": "2023-08-21T04:37:19.108274Z",
     "iopub.status.busy": "2023-08-21T04:37:19.107544Z",
     "iopub.status.idle": "2023-08-21T04:37:19.115225Z",
     "shell.execute_reply": "2023-08-21T04:37:19.114506Z"
    },
    "papermill": {
     "duration": 0.058082,
     "end_time": "2023-08-21T04:37:19.117023",
     "exception": false,
     "start_time": "2023-08-21T04:37:19.058941",
     "status": "completed"
    },
    "tags": []
   },
   "outputs": [
    {
     "data": {
      "text/plain": [
       "1    1546\n",
       "0     995\n",
       "Name: Status_binary, dtype: int64"
      ]
     },
     "execution_count": 493,
     "metadata": {},
     "output_type": "execute_result"
    }
   ],
   "source": [
    "y_train.value_counts()"
   ]
  },
  {
   "cell_type": "code",
   "execution_count": 494,
   "id": "30b34568",
   "metadata": {
    "execution": {
     "iopub.execute_input": "2023-08-21T04:37:19.212754Z",
     "iopub.status.busy": "2023-08-21T04:37:19.211966Z",
     "iopub.status.idle": "2023-08-21T04:37:19.218571Z",
     "shell.execute_reply": "2023-08-21T04:37:19.217959Z"
    },
    "papermill": {
     "duration": 0.057018,
     "end_time": "2023-08-21T04:37:19.220819",
     "exception": false,
     "start_time": "2023-08-21T04:37:19.163801",
     "status": "completed"
    },
    "tags": []
   },
   "outputs": [
    {
     "data": {
      "text/plain": [
       "1    663\n",
       "0    426\n",
       "Name: Status_binary, dtype: int64"
      ]
     },
     "execution_count": 494,
     "metadata": {},
     "output_type": "execute_result"
    }
   ],
   "source": [
    "y_test.value_counts()"
   ]
  },
  {
   "cell_type": "code",
   "execution_count": 495,
   "id": "81733006",
   "metadata": {
    "execution": {
     "iopub.execute_input": "2023-08-21T04:37:19.317312Z",
     "iopub.status.busy": "2023-08-21T04:37:19.316640Z",
     "iopub.status.idle": "2023-08-21T04:37:19.321267Z",
     "shell.execute_reply": "2023-08-21T04:37:19.320629Z"
    },
    "papermill": {
     "duration": 0.054525,
     "end_time": "2023-08-21T04:37:19.323174",
     "exception": false,
     "start_time": "2023-08-21T04:37:19.268649",
     "status": "completed"
    },
    "tags": []
   },
   "outputs": [
    {
     "name": "stdout",
     "output_type": "stream",
     "text": [
      "size of X data structures:  (2541, 24) (1089, 24)\n",
      "size of y data structures:  (2541,) (1089,)\n"
     ]
    }
   ],
   "source": [
    "print(\"size of X data structures: \", X_train.shape, X_test.shape)\n",
    "print(\"size of y data structures: \", y_train.shape, y_test.shape)"
   ]
  },
  {
   "cell_type": "markdown",
   "id": "24523584",
   "metadata": {
    "papermill": {
     "duration": 0.046371,
     "end_time": "2023-08-21T04:37:19.417414",
     "exception": false,
     "start_time": "2023-08-21T04:37:19.371043",
     "status": "completed"
    },
    "tags": []
   },
   "source": [
    "Check the proportion of target variable in the training and testing data."
   ]
  },
  {
   "cell_type": "code",
   "execution_count": 496,
   "id": "4ffc9439",
   "metadata": {
    "execution": {
     "iopub.execute_input": "2023-08-21T04:37:19.513798Z",
     "iopub.status.busy": "2023-08-21T04:37:19.513135Z",
     "iopub.status.idle": "2023-08-21T04:37:19.518243Z",
     "shell.execute_reply": "2023-08-21T04:37:19.517295Z"
    },
    "papermill": {
     "duration": 0.056234,
     "end_time": "2023-08-21T04:37:19.520114",
     "exception": false,
     "start_time": "2023-08-21T04:37:19.463880",
     "status": "completed"
    },
    "tags": []
   },
   "outputs": [
    {
     "name": "stdout",
     "output_type": "stream",
     "text": [
      "Proportion of Target in the training data:  0.392\n",
      "Proportion of Target in the testing data:  0.391\n"
     ]
    }
   ],
   "source": [
    "print(\"Proportion of Target in the training data: \", round(995/(995+1546), 3))\n",
    "print(\"Proportion of Target in the testing data: \", round(426/(426+663), 3))"
   ]
  },
  {
   "cell_type": "markdown",
   "id": "f90ec75c",
   "metadata": {
    "papermill": {
     "duration": 0.046196,
     "end_time": "2023-08-21T04:37:19.613197",
     "exception": false,
     "start_time": "2023-08-21T04:37:19.567001",
     "status": "completed"
    },
    "tags": []
   },
   "source": [
    "The data were split as expected."
   ]
  },
  {
   "cell_type": "markdown",
   "id": "272eabff",
   "metadata": {
    "papermill": {
     "duration": 0.048102,
     "end_time": "2023-08-21T04:37:19.712042",
     "exception": false,
     "start_time": "2023-08-21T04:37:19.663940",
     "status": "completed"
    },
    "tags": []
   },
   "source": [
    "## Access Solution Algorithm & Fit Model"
   ]
  },
  {
   "cell_type": "code",
   "execution_count": 497,
   "id": "e5f6deb5",
   "metadata": {
    "execution": {
     "iopub.execute_input": "2023-08-21T04:37:19.808678Z",
     "iopub.status.busy": "2023-08-21T04:37:19.808004Z",
     "iopub.status.idle": "2023-08-21T04:37:19.942120Z",
     "shell.execute_reply": "2023-08-21T04:37:19.940099Z"
    },
    "papermill": {
     "duration": 0.185945,
     "end_time": "2023-08-21T04:37:19.944940",
     "exception": false,
     "start_time": "2023-08-21T04:37:19.758995",
     "status": "completed"
    },
    "tags": []
   },
   "outputs": [],
   "source": [
    "from sklearn.linear_model import LogisticRegression\n",
    "logistic_model = LogisticRegression(solver='lbfgs', max_iter=500)"
   ]
  },
  {
   "cell_type": "markdown",
   "id": "8521d2e1",
   "metadata": {
    "papermill": {
     "duration": 0.047147,
     "end_time": "2023-08-21T04:37:20.040027",
     "exception": false,
     "start_time": "2023-08-21T04:37:19.992880",
     "status": "completed"
    },
    "tags": []
   },
   "source": [
    "Fit the model to the training data."
   ]
  },
  {
   "cell_type": "code",
   "execution_count": 505,
   "id": "1a8fe8c3",
   "metadata": {
    "execution": {
     "iopub.execute_input": "2023-08-21T04:37:20.140999Z",
     "iopub.status.busy": "2023-08-21T04:37:20.140569Z",
     "iopub.status.idle": "2023-08-21T04:37:20.181029Z",
     "shell.execute_reply": "2023-08-21T04:37:20.180082Z"
    },
    "papermill": {
     "duration": 0.092123,
     "end_time": "2023-08-21T04:37:20.183116",
     "exception": false,
     "start_time": "2023-08-21T04:37:20.090993",
     "status": "completed"
    },
    "tags": []
   },
   "outputs": [
    {
     "data": {
      "text/html": [
       "<style>#sk-container-id-5 {color: black;}#sk-container-id-5 pre{padding: 0;}#sk-container-id-5 div.sk-toggleable {background-color: white;}#sk-container-id-5 label.sk-toggleable__label {cursor: pointer;display: block;width: 100%;margin-bottom: 0;padding: 0.3em;box-sizing: border-box;text-align: center;}#sk-container-id-5 label.sk-toggleable__label-arrow:before {content: \"▸\";float: left;margin-right: 0.25em;color: #696969;}#sk-container-id-5 label.sk-toggleable__label-arrow:hover:before {color: black;}#sk-container-id-5 div.sk-estimator:hover label.sk-toggleable__label-arrow:before {color: black;}#sk-container-id-5 div.sk-toggleable__content {max-height: 0;max-width: 0;overflow: hidden;text-align: left;background-color: #f0f8ff;}#sk-container-id-5 div.sk-toggleable__content pre {margin: 0.2em;color: black;border-radius: 0.25em;background-color: #f0f8ff;}#sk-container-id-5 input.sk-toggleable__control:checked~div.sk-toggleable__content {max-height: 200px;max-width: 100%;overflow: auto;}#sk-container-id-5 input.sk-toggleable__control:checked~label.sk-toggleable__label-arrow:before {content: \"▾\";}#sk-container-id-5 div.sk-estimator input.sk-toggleable__control:checked~label.sk-toggleable__label {background-color: #d4ebff;}#sk-container-id-5 div.sk-label input.sk-toggleable__control:checked~label.sk-toggleable__label {background-color: #d4ebff;}#sk-container-id-5 input.sk-hidden--visually {border: 0;clip: rect(1px 1px 1px 1px);clip: rect(1px, 1px, 1px, 1px);height: 1px;margin: -1px;overflow: hidden;padding: 0;position: absolute;width: 1px;}#sk-container-id-5 div.sk-estimator {font-family: monospace;background-color: #f0f8ff;border: 1px dotted black;border-radius: 0.25em;box-sizing: border-box;margin-bottom: 0.5em;}#sk-container-id-5 div.sk-estimator:hover {background-color: #d4ebff;}#sk-container-id-5 div.sk-parallel-item::after {content: \"\";width: 100%;border-bottom: 1px solid gray;flex-grow: 1;}#sk-container-id-5 div.sk-label:hover label.sk-toggleable__label {background-color: #d4ebff;}#sk-container-id-5 div.sk-serial::before {content: \"\";position: absolute;border-left: 1px solid gray;box-sizing: border-box;top: 0;bottom: 0;left: 50%;z-index: 0;}#sk-container-id-5 div.sk-serial {display: flex;flex-direction: column;align-items: center;background-color: white;padding-right: 0.2em;padding-left: 0.2em;position: relative;}#sk-container-id-5 div.sk-item {position: relative;z-index: 1;}#sk-container-id-5 div.sk-parallel {display: flex;align-items: stretch;justify-content: center;background-color: white;position: relative;}#sk-container-id-5 div.sk-item::before, #sk-container-id-5 div.sk-parallel-item::before {content: \"\";position: absolute;border-left: 1px solid gray;box-sizing: border-box;top: 0;bottom: 0;left: 50%;z-index: -1;}#sk-container-id-5 div.sk-parallel-item {display: flex;flex-direction: column;z-index: 1;position: relative;background-color: white;}#sk-container-id-5 div.sk-parallel-item:first-child::after {align-self: flex-end;width: 50%;}#sk-container-id-5 div.sk-parallel-item:last-child::after {align-self: flex-start;width: 50%;}#sk-container-id-5 div.sk-parallel-item:only-child::after {width: 0;}#sk-container-id-5 div.sk-dashed-wrapped {border: 1px dashed gray;margin: 0 0.4em 0.5em 0.4em;box-sizing: border-box;padding-bottom: 0.4em;background-color: white;}#sk-container-id-5 div.sk-label label {font-family: monospace;font-weight: bold;display: inline-block;line-height: 1.2em;}#sk-container-id-5 div.sk-label-container {text-align: center;}#sk-container-id-5 div.sk-container {/* jupyter's `normalize.less` sets `[hidden] { display: none; }` but bootstrap.min.css set `[hidden] { display: none !important; }` so we also need the `!important` here to be able to override the default hidden behavior on the sphinx rendered scikit-learn.org. See: https://github.com/scikit-learn/scikit-learn/issues/21755 */display: inline-block !important;position: relative;}#sk-container-id-5 div.sk-text-repr-fallback {display: none;}</style><div id=\"sk-container-id-5\" class=\"sk-top-container\"><div class=\"sk-text-repr-fallback\"><pre>LogisticRegression(max_iter=500)</pre><b>In a Jupyter environment, please rerun this cell to show the HTML representation or trust the notebook. <br />On GitHub, the HTML representation is unable to render, please try loading this page with nbviewer.org.</b></div><div class=\"sk-container\" hidden><div class=\"sk-item\"><div class=\"sk-estimator sk-toggleable\"><input class=\"sk-toggleable__control sk-hidden--visually\" id=\"sk-estimator-id-5\" type=\"checkbox\" checked><label for=\"sk-estimator-id-5\" class=\"sk-toggleable__label sk-toggleable__label-arrow\">LogisticRegression</label><div class=\"sk-toggleable__content\"><pre>LogisticRegression(max_iter=500)</pre></div></div></div></div></div>"
      ],
      "text/plain": [
       "LogisticRegression(max_iter=500)"
      ]
     },
     "execution_count": 505,
     "metadata": {},
     "output_type": "execute_result"
    }
   ],
   "source": [
    "logistic_model.fit(X_train, y_train)"
   ]
  },
  {
   "cell_type": "markdown",
   "id": "94486dcd",
   "metadata": {
    "papermill": {
     "duration": 0.056867,
     "end_time": "2023-08-21T04:37:20.307866",
     "exception": false,
     "start_time": "2023-08-21T04:37:20.250999",
     "status": "completed"
    },
    "tags": []
   },
   "source": [
    "Show the intercept and coefficients to examine strengths of each feature variable."
   ]
  },
  {
   "cell_type": "code",
   "execution_count": 506,
   "id": "08ec2a50",
   "metadata": {
    "execution": {
     "iopub.execute_input": "2023-08-21T04:37:20.402507Z",
     "iopub.status.busy": "2023-08-21T04:37:20.402188Z",
     "iopub.status.idle": "2023-08-21T04:37:20.419676Z",
     "shell.execute_reply": "2023-08-21T04:37:20.417843Z"
    },
    "papermill": {
     "duration": 0.066577,
     "end_time": "2023-08-21T04:37:20.421698",
     "exception": false,
     "start_time": "2023-08-21T04:37:20.355121",
     "status": "completed"
    },
    "tags": []
   },
   "outputs": [
    {
     "name": "stdout",
     "output_type": "stream",
     "text": [
      "intercept -2.300 \n",
      "\n"
     ]
    },
    {
     "data": {
      "text/html": [
       "<div>\n",
       "<style scoped>\n",
       "    .dataframe tbody tr th:only-of-type {\n",
       "        vertical-align: middle;\n",
       "    }\n",
       "\n",
       "    .dataframe tbody tr th {\n",
       "        vertical-align: top;\n",
       "    }\n",
       "\n",
       "    .dataframe thead th {\n",
       "        text-align: right;\n",
       "    }\n",
       "</style>\n",
       "<table border=\"1\" class=\"dataframe\">\n",
       "  <thead>\n",
       "    <tr style=\"text-align: right;\">\n",
       "      <th></th>\n",
       "      <th>Feature</th>\n",
       "      <th>Coef</th>\n",
       "    </tr>\n",
       "  </thead>\n",
       "  <tbody>\n",
       "    <tr>\n",
       "      <th>13</th>\n",
       "      <td>Tuition fees up to date</td>\n",
       "      <td>3.094</td>\n",
       "    </tr>\n",
       "    <tr>\n",
       "      <th>15</th>\n",
       "      <td>Scholarship holder</td>\n",
       "      <td>1.389</td>\n",
       "    </tr>\n",
       "    <tr>\n",
       "      <th>1</th>\n",
       "      <td>Application mode</td>\n",
       "      <td>0.334</td>\n",
       "    </tr>\n",
       "    <tr>\n",
       "      <th>8</th>\n",
       "      <td>Mother's occupation</td>\n",
       "      <td>0.330</td>\n",
       "    </tr>\n",
       "    <tr>\n",
       "      <th>18</th>\n",
       "      <td>Curricular units 2nd sem (evaluations)</td>\n",
       "      <td>0.260</td>\n",
       "    </tr>\n",
       "    <tr>\n",
       "      <th>2</th>\n",
       "      <td>Application order</td>\n",
       "      <td>0.223</td>\n",
       "    </tr>\n",
       "    <tr>\n",
       "      <th>10</th>\n",
       "      <td>Displaced</td>\n",
       "      <td>0.196</td>\n",
       "    </tr>\n",
       "    <tr>\n",
       "      <th>20</th>\n",
       "      <td>Curricular units 2nd sem (grade)</td>\n",
       "      <td>0.182</td>\n",
       "    </tr>\n",
       "    <tr>\n",
       "      <th>23</th>\n",
       "      <td>GDP</td>\n",
       "      <td>0.175</td>\n",
       "    </tr>\n",
       "    <tr>\n",
       "      <th>17</th>\n",
       "      <td>Curricular units 2nd sem (enrolled)</td>\n",
       "      <td>0.143</td>\n",
       "    </tr>\n",
       "    <tr>\n",
       "      <th>19</th>\n",
       "      <td>Curricular units 2nd sem (approved)</td>\n",
       "      <td>0.143</td>\n",
       "    </tr>\n",
       "    <tr>\n",
       "      <th>21</th>\n",
       "      <td>Unemployment rate</td>\n",
       "      <td>0.019</td>\n",
       "    </tr>\n",
       "    <tr>\n",
       "      <th>9</th>\n",
       "      <td>Father's occupation</td>\n",
       "      <td>0.000</td>\n",
       "    </tr>\n",
       "    <tr>\n",
       "      <th>16</th>\n",
       "      <td>Age at enrollment</td>\n",
       "      <td>0.000</td>\n",
       "    </tr>\n",
       "    <tr>\n",
       "      <th>22</th>\n",
       "      <td>Inflation rate</td>\n",
       "      <td>-0.007</td>\n",
       "    </tr>\n",
       "    <tr>\n",
       "      <th>4</th>\n",
       "      <td>Daytime/evening attendance</td>\n",
       "      <td>-0.011</td>\n",
       "    </tr>\n",
       "    <tr>\n",
       "      <th>7</th>\n",
       "      <td>Father's qualification</td>\n",
       "      <td>-0.024</td>\n",
       "    </tr>\n",
       "    <tr>\n",
       "      <th>5</th>\n",
       "      <td>Previous qualification</td>\n",
       "      <td>-0.073</td>\n",
       "    </tr>\n",
       "    <tr>\n",
       "      <th>11</th>\n",
       "      <td>Educational special needs</td>\n",
       "      <td>-0.436</td>\n",
       "    </tr>\n",
       "    <tr>\n",
       "      <th>6</th>\n",
       "      <td>Mother's qualification</td>\n",
       "      <td>-0.557</td>\n",
       "    </tr>\n",
       "    <tr>\n",
       "      <th>3</th>\n",
       "      <td>Course</td>\n",
       "      <td>-0.615</td>\n",
       "    </tr>\n",
       "    <tr>\n",
       "      <th>0</th>\n",
       "      <td>Marital status</td>\n",
       "      <td>-0.830</td>\n",
       "    </tr>\n",
       "    <tr>\n",
       "      <th>14</th>\n",
       "      <td>Gender</td>\n",
       "      <td>-0.863</td>\n",
       "    </tr>\n",
       "    <tr>\n",
       "      <th>12</th>\n",
       "      <td>Debtor</td>\n",
       "      <td>-0.872</td>\n",
       "    </tr>\n",
       "  </tbody>\n",
       "</table>\n",
       "</div>"
      ],
      "text/plain": [
       "                                   Feature   Coef\n",
       "13                 Tuition fees up to date  3.094\n",
       "15                      Scholarship holder  1.389\n",
       "1                         Application mode  0.334\n",
       "8                      Mother's occupation  0.330\n",
       "18  Curricular units 2nd sem (evaluations)  0.260\n",
       "2                        Application order  0.223\n",
       "10                               Displaced  0.196\n",
       "20        Curricular units 2nd sem (grade)  0.182\n",
       "23                                     GDP  0.175\n",
       "17     Curricular units 2nd sem (enrolled)  0.143\n",
       "19     Curricular units 2nd sem (approved)  0.143\n",
       "21                       Unemployment rate  0.019\n",
       "9                      Father's occupation  0.000\n",
       "16                       Age at enrollment  0.000\n",
       "22                          Inflation rate -0.007\n",
       "4               Daytime/evening attendance -0.011\n",
       "7                   Father's qualification -0.024\n",
       "5                   Previous qualification -0.073\n",
       "11               Educational special needs -0.436\n",
       "6                   Mother's qualification -0.557\n",
       "3                                   Course -0.615\n",
       "0                           Marital status -0.830\n",
       "14                                  Gender -0.863\n",
       "12                                  Debtor -0.872"
      ]
     },
     "execution_count": 506,
     "metadata": {},
     "output_type": "execute_result"
    }
   ],
   "source": [
    "print(\"intercept %.3f\" % logistic_model.intercept_, \"\\n\")\n",
    "cf = pd.DataFrame()\n",
    "cf['Feature'] = X.columns\n",
    "cf['Coef'] = np.transpose(logistic_model.coef_).round(3)\n",
    "cf.sort_values(by='Coef', ascending=False)"
   ]
  },
  {
   "cell_type": "markdown",
   "id": "7ccc2c36",
   "metadata": {
    "papermill": {
     "duration": 0.047651,
     "end_time": "2023-08-21T04:37:20.516938",
     "exception": false,
     "start_time": "2023-08-21T04:37:20.469287",
     "status": "completed"
    },
    "tags": []
   },
   "source": [
    "## Evaluate Fit"
   ]
  },
  {
   "cell_type": "code",
   "execution_count": 507,
   "id": "84bdc3de",
   "metadata": {
    "execution": {
     "iopub.execute_input": "2023-08-21T04:37:20.612045Z",
     "iopub.status.busy": "2023-08-21T04:37:20.611713Z",
     "iopub.status.idle": "2023-08-21T04:37:20.621282Z",
     "shell.execute_reply": "2023-08-21T04:37:20.620459Z"
    },
    "papermill": {
     "duration": 0.059825,
     "end_time": "2023-08-21T04:37:20.623292",
     "exception": false,
     "start_time": "2023-08-21T04:37:20.563467",
     "status": "completed"
    },
    "tags": []
   },
   "outputs": [],
   "source": [
    "y_fit = logistic_model.predict(X_train)\n",
    "y_pred = logistic_model.predict(X_test)"
   ]
  },
  {
   "cell_type": "markdown",
   "id": "d5d5618a",
   "metadata": {
    "papermill": {
     "duration": 0.059762,
     "end_time": "2023-08-21T04:37:20.747438",
     "exception": false,
     "start_time": "2023-08-21T04:37:20.687676",
     "status": "completed"
    },
    "tags": []
   },
   "source": [
    "Check the probilities of the positive outcomes (Dropout) and combine with the predicted values to quickly assess the model's predictions."
   ]
  },
  {
   "cell_type": "code",
   "execution_count": 508,
   "id": "3dbb2056",
   "metadata": {
    "execution": {
     "iopub.execute_input": "2023-08-21T04:37:20.843705Z",
     "iopub.status.busy": "2023-08-21T04:37:20.843309Z",
     "iopub.status.idle": "2023-08-21T04:37:20.910791Z",
     "shell.execute_reply": "2023-08-21T04:37:20.909995Z"
    },
    "papermill": {
     "duration": 0.117544,
     "end_time": "2023-08-21T04:37:20.912925",
     "exception": false,
     "start_time": "2023-08-21T04:37:20.795381",
     "status": "completed"
    },
    "tags": []
   },
   "outputs": [],
   "source": [
    "probs = [i[1] for i in logistic_model.predict_proba(X_test)]\n",
    "pred_df = pd.DataFrame({'true_values': y_test,\n",
    "'pred_values': y_pred,\n",
    "'pred_probs':probs})"
   ]
  },
  {
   "cell_type": "markdown",
   "id": "6e394e21",
   "metadata": {
    "papermill": {
     "duration": 0.046186,
     "end_time": "2023-08-21T04:37:21.019738",
     "exception": false,
     "start_time": "2023-08-21T04:37:20.973552",
     "status": "completed"
    },
    "tags": []
   },
   "source": [
    "Check accuracy for training and testing data."
   ]
  },
  {
   "cell_type": "code",
   "execution_count": 509,
   "id": "f79a6f23",
   "metadata": {
    "execution": {
     "iopub.execute_input": "2023-08-21T04:37:21.117182Z",
     "iopub.status.busy": "2023-08-21T04:37:21.116813Z",
     "iopub.status.idle": "2023-08-21T04:37:21.124093Z",
     "shell.execute_reply": "2023-08-21T04:37:21.123293Z"
    },
    "papermill": {
     "duration": 0.05883,
     "end_time": "2023-08-21T04:37:21.126006",
     "exception": false,
     "start_time": "2023-08-21T04:37:21.067176",
     "status": "completed"
    },
    "tags": []
   },
   "outputs": [
    {
     "name": "stdout",
     "output_type": "stream",
     "text": [
      "Accuracy for training data: 0.747\n",
      "Accuracy for testing data: 0.732\n"
     ]
    }
   ],
   "source": [
    "from sklearn.metrics import accuracy_score\n",
    "print('Accuracy for training data: %.3f' % accuracy_score(y_train, y_fit))\n",
    "print('Accuracy for testing data: %.3f' % accuracy_score(y_test, y_pred))"
   ]
  },
  {
   "cell_type": "markdown",
   "id": "f5735ac9",
   "metadata": {
    "papermill": {
     "duration": 0.052107,
     "end_time": "2023-08-21T04:37:21.228241",
     "exception": false,
     "start_time": "2023-08-21T04:37:21.176134",
     "status": "completed"
    },
    "tags": []
   },
   "source": [
    "The accuracy is highly similar for both the training and testing data, indicating no overfitting."
   ]
  },
  {
   "cell_type": "markdown",
   "id": "6763e3d5",
   "metadata": {
    "execution": {
     "iopub.execute_input": "2023-08-20T21:40:29.606707Z",
     "iopub.status.busy": "2023-08-20T21:40:29.606272Z",
     "iopub.status.idle": "2023-08-20T21:40:29.612799Z",
     "shell.execute_reply": "2023-08-20T21:40:29.611690Z",
     "shell.execute_reply.started": "2023-08-20T21:40:29.606672Z"
    },
    "papermill": {
     "duration": 0.048449,
     "end_time": "2023-08-21T04:37:21.326874",
     "exception": false,
     "start_time": "2023-08-21T04:37:21.278425",
     "status": "completed"
    },
    "tags": []
   },
   "source": [
    "### Confusion Matrix"
   ]
  },
  {
   "cell_type": "code",
   "execution_count": 510,
   "id": "cf6e2574",
   "metadata": {
    "execution": {
     "iopub.execute_input": "2023-08-21T04:37:21.424740Z",
     "iopub.status.busy": "2023-08-21T04:37:21.424112Z",
     "iopub.status.idle": "2023-08-21T04:37:21.439495Z",
     "shell.execute_reply": "2023-08-21T04:37:21.438027Z"
    },
    "papermill": {
     "duration": 0.067648,
     "end_time": "2023-08-21T04:37:21.442002",
     "exception": false,
     "start_time": "2023-08-21T04:37:21.374354",
     "status": "completed"
    },
    "tags": []
   },
   "outputs": [
    {
     "data": {
      "text/html": [
       "<div>\n",
       "<style scoped>\n",
       "    .dataframe tbody tr th:only-of-type {\n",
       "        vertical-align: middle;\n",
       "    }\n",
       "\n",
       "    .dataframe tbody tr th {\n",
       "        vertical-align: top;\n",
       "    }\n",
       "\n",
       "    .dataframe thead th {\n",
       "        text-align: right;\n",
       "    }\n",
       "</style>\n",
       "<table border=\"1\" class=\"dataframe\">\n",
       "  <thead>\n",
       "    <tr style=\"text-align: right;\">\n",
       "      <th></th>\n",
       "      <th>0</th>\n",
       "      <th>1</th>\n",
       "    </tr>\n",
       "  </thead>\n",
       "  <tbody>\n",
       "    <tr>\n",
       "      <th>0</th>\n",
       "      <td>212</td>\n",
       "      <td>214</td>\n",
       "    </tr>\n",
       "    <tr>\n",
       "      <th>1</th>\n",
       "      <td>78</td>\n",
       "      <td>585</td>\n",
       "    </tr>\n",
       "  </tbody>\n",
       "</table>\n",
       "</div>"
      ],
      "text/plain": [
       "     0    1\n",
       "0  212  214\n",
       "1   78  585"
      ]
     },
     "execution_count": 510,
     "metadata": {},
     "output_type": "execute_result"
    }
   ],
   "source": [
    "from sklearn.metrics import confusion_matrix\n",
    "c_matrix = pd.DataFrame(confusion_matrix(y_test, y_pred))\n",
    "c_matrix"
   ]
  },
  {
   "cell_type": "markdown",
   "id": "0753dead",
   "metadata": {
    "papermill": {
     "duration": 0.049421,
     "end_time": "2023-08-21T04:37:21.539540",
     "exception": false,
     "start_time": "2023-08-21T04:37:21.490119",
     "status": "completed"
    },
    "tags": []
   },
   "source": [
    "Visualize confusion matrix."
   ]
  },
  {
   "cell_type": "code",
   "execution_count": 511,
   "id": "211803e0",
   "metadata": {
    "execution": {
     "iopub.execute_input": "2023-08-21T04:37:21.637755Z",
     "iopub.status.busy": "2023-08-21T04:37:21.637304Z",
     "iopub.status.idle": "2023-08-21T04:37:21.907074Z",
     "shell.execute_reply": "2023-08-21T04:37:21.905985Z"
    },
    "papermill": {
     "duration": 0.321899,
     "end_time": "2023-08-21T04:37:21.909640",
     "exception": false,
     "start_time": "2023-08-21T04:37:21.587741",
     "status": "completed"
    },
    "tags": []
   },
   "outputs": [
    {
     "data": {
      "text/plain": [
       "<sklearn.metrics._plot.confusion_matrix.ConfusionMatrixDisplay at 0x17b039850>"
      ]
     },
     "execution_count": 511,
     "metadata": {},
     "output_type": "execute_result"
    },
    {
     "data": {
      "image/png": "[encoded data removed]",
      "text/plain": [
       "<Figure size 700x500 with 2 Axes>"
      ]
     },
     "metadata": {},
     "output_type": "display_data"
    }
   ],
   "source": [
    "from sklearn.metrics import ConfusionMatrixDisplay\n",
    "ConfusionMatrixDisplay.from_predictions(y_test, y_pred, cmap='Blues')"
   ]
  },
  {
   "cell_type": "code",
   "execution_count": 512,
   "id": "dd51c51d",
   "metadata": {
    "execution": {
     "iopub.execute_input": "2023-08-21T04:37:22.009923Z",
     "iopub.status.busy": "2023-08-21T04:37:22.009516Z",
     "iopub.status.idle": "2023-08-21T04:37:22.015780Z",
     "shell.execute_reply": "2023-08-21T04:37:22.014945Z"
    },
    "papermill": {
     "duration": 0.05891,
     "end_time": "2023-08-21T04:37:22.018177",
     "exception": false,
     "start_time": "2023-08-21T04:37:21.959267",
     "status": "completed"
    },
    "tags": []
   },
   "outputs": [
    {
     "name": "stdout",
     "output_type": "stream",
     "text": [
      "True Negatives:  212\n",
      "True Positives:  585\n",
      "False Negatives:  78\n",
      "False Positives:  214\n"
     ]
    }
   ],
   "source": [
    "print(\"True Negatives: \", c_matrix.iloc[0,0])\n",
    "print(\"True Positives: \", c_matrix.iloc[1,1])\n",
    "print(\"False Negatives: \", c_matrix.iloc[1,0])\n",
    "print(\"False Positives: \", c_matrix.iloc[0,1])"
   ]
  },
  {
   "cell_type": "markdown",
   "id": "d8de77ed",
   "metadata": {
    "papermill": {
     "duration": 0.050069,
     "end_time": "2023-08-21T04:37:22.117695",
     "exception": false,
     "start_time": "2023-08-21T04:37:22.067626",
     "status": "completed"
    },
    "tags": []
   },
   "source": [
    "### Fit Metrics"
   ]
  },
  {
   "cell_type": "markdown",
   "id": "a54a4571",
   "metadata": {
    "papermill": {
     "duration": 0.04783,
     "end_time": "2023-08-21T04:37:22.213136",
     "exception": false,
     "start_time": "2023-08-21T04:37:22.165306",
     "status": "completed"
    },
    "tags": []
   },
   "source": [
    "Calculate accuracy, recall, precision, & F1."
   ]
  },
  {
   "cell_type": "code",
   "execution_count": 513,
   "id": "8074eedb",
   "metadata": {
    "execution": {
     "iopub.execute_input": "2023-08-21T04:37:22.313759Z",
     "iopub.status.busy": "2023-08-21T04:37:22.312461Z",
     "iopub.status.idle": "2023-08-21T04:37:22.330479Z",
     "shell.execute_reply": "2023-08-21T04:37:22.329235Z"
    },
    "papermill": {
     "duration": 0.07122,
     "end_time": "2023-08-21T04:37:22.333248",
     "exception": false,
     "start_time": "2023-08-21T04:37:22.262028",
     "status": "completed"
    },
    "tags": []
   },
   "outputs": [
    {
     "name": "stdout",
     "output_type": "stream",
     "text": [
      "Accuracy for testing data: 0.731864\n",
      "Recall for testing data: 0.882\n",
      "Precision for testing data: 0.732\n",
      "F1 for testing data: 0.800\n"
     ]
    }
   ],
   "source": [
    "from sklearn.metrics import accuracy_score, recall_score, precision_score, f1_score\n",
    "print('Accuracy for testing data: %3f' % accuracy_score(y_test, y_pred))\n",
    "print ('Recall for testing data: %.3f' % recall_score(y_test, y_pred))\n",
    "print ('Precision for testing data: %.3f' % precision_score(y_test, y_pred))\n",
    "print ('F1 for testing data: %.3f' % f1_score(y_test, y_pred))"
   ]
  },
  {
   "cell_type": "markdown",
   "id": "2c603c63",
   "metadata": {
    "papermill": {
     "duration": 0.047743,
     "end_time": "2023-08-21T04:37:22.429836",
     "exception": false,
     "start_time": "2023-08-21T04:37:22.382093",
     "status": "completed"
    },
    "tags": []
   },
   "source": [
    "Based on the lowest fit index (recall) 84%, the model correctly forecasts almost 84% of Dropouts as Dropout (true positives). So the model mislabels almost 16% of actual Dropouts as Graduates.  \n",
    "\n",
    "Precision is even higher, which means that of those the model forecasted as Dropout, 91.6% are actual dropouts.\n",
    "8% of those predicted as Dropout are indicated as Graduate in the data, a false positive.  \n",
    "\n",
    "By definition, the F1 statistic is between recall and precision, their harmonic average, at 87.6%."
   ]
  },
  {
   "cell_type": "markdown",
   "id": "c2b40c03",
   "metadata": {
    "papermill": {
     "duration": 0.050317,
     "end_time": "2023-08-21T04:37:22.532125",
     "exception": false,
     "start_time": "2023-08-21T04:37:22.481808",
     "status": "completed"
    },
    "tags": []
   },
   "source": [
    "## Baseline Probabilities"
   ]
  },
  {
   "cell_type": "markdown",
   "id": "ea7920d3",
   "metadata": {
    "papermill": {
     "duration": 0.054345,
     "end_time": "2023-08-21T04:37:22.703731",
     "exception": false,
     "start_time": "2023-08-21T04:37:22.649386",
     "status": "completed"
    },
    "tags": []
   },
   "source": [
    "View the baseline probabilities to help evaluate the effectiveness of the model."
   ]
  },
  {
   "cell_type": "code",
   "execution_count": 514,
   "id": "94d63543",
   "metadata": {
    "execution": {
     "iopub.execute_input": "2023-08-21T04:37:22.822952Z",
     "iopub.status.busy": "2023-08-21T04:37:22.822546Z",
     "iopub.status.idle": "2023-08-21T04:37:22.831398Z",
     "shell.execute_reply": "2023-08-21T04:37:22.829881Z"
    },
    "papermill": {
     "duration": 0.064329,
     "end_time": "2023-08-21T04:37:22.834122",
     "exception": false,
     "start_time": "2023-08-21T04:37:22.769793",
     "status": "completed"
    },
    "tags": []
   },
   "outputs": [
    {
     "name": "stdout",
     "output_type": "stream",
     "text": [
      "proportion of 0's (Graduate): 0.391\n",
      "Proportion of 1's (Dropout): 0.609\n",
      "Null model accuracy: 0.609\n"
     ]
    }
   ],
   "source": [
    "my = y.mean()\n",
    "max_my = np.max([y.mean(), 1-y.mean()])\n",
    "print(\"proportion of 0\\'s (Graduate): %.3f\" % (1-my))\n",
    "print(\"Proportion of 1\\'s (Dropout): %.3f\" % my)\n",
    "print(\"Null model accuracy: %.3f\" % max_my)"
   ]
  },
  {
   "cell_type": "markdown",
   "id": "f9a7a31e",
   "metadata": {
    "papermill": {
     "duration": 0.053626,
     "end_time": "2023-08-21T04:37:22.937869",
     "exception": false,
     "start_time": "2023-08-21T04:37:22.884243",
     "status": "completed"
    },
    "tags": []
   },
   "source": [
    "The Logistic regression model with a single hold-out sample is significantly more accurate than the null model."
   ]
  },
  {
   "cell_type": "markdown",
   "id": "b15f6605",
   "metadata": {
    "papermill": {
     "duration": 0.050973,
     "end_time": "2023-08-21T04:37:23.040676",
     "exception": false,
     "start_time": "2023-08-21T04:37:22.989703",
     "status": "completed"
    },
    "tags": []
   },
   "source": [
    "## Logistic Model Validation"
   ]
  },
  {
   "cell_type": "markdown",
   "id": "57dab7e7",
   "metadata": {
    "papermill": {
     "duration": 0.048499,
     "end_time": "2023-08-21T04:37:23.138239",
     "exception": false,
     "start_time": "2023-08-21T04:37:23.089740",
     "status": "completed"
    },
    "tags": []
   },
   "source": [
    "Next I will evaluate the effectiveness of the model with multiple hold-out samples using K-fold cross-validation."
   ]
  },
  {
   "cell_type": "markdown",
   "id": "3b7d0a42",
   "metadata": {
    "papermill": {
     "duration": 0.049898,
     "end_time": "2023-08-21T04:37:23.237844",
     "exception": false,
     "start_time": "2023-08-21T04:37:23.187946",
     "status": "completed"
    },
    "tags": []
   },
   "source": [
    "access solution algorithm and instantiate as skf"
   ]
  },
  {
   "cell_type": "code",
   "execution_count": 515,
   "id": "e0bec0ee",
   "metadata": {
    "execution": {
     "iopub.execute_input": "2023-08-21T04:37:23.339726Z",
     "iopub.status.busy": "2023-08-21T04:37:23.338691Z",
     "iopub.status.idle": "2023-08-21T04:37:23.344665Z",
     "shell.execute_reply": "2023-08-21T04:37:23.342805Z"
    },
    "papermill": {
     "duration": 0.060477,
     "end_time": "2023-08-21T04:37:23.347800",
     "exception": false,
     "start_time": "2023-08-21T04:37:23.287323",
     "status": "completed"
    },
    "tags": []
   },
   "outputs": [],
   "source": [
    "from sklearn.model_selection import StratifiedKFold\n",
    "skf = StratifiedKFold(n_splits=5, shuffle=True, random_state=1)"
   ]
  },
  {
   "cell_type": "markdown",
   "id": "39f1c406",
   "metadata": {
    "papermill": {
     "duration": 0.048682,
     "end_time": "2023-08-21T04:37:23.446413",
     "exception": false,
     "start_time": "2023-08-21T04:37:23.397731",
     "status": "completed"
    },
    "tags": []
   },
   "source": [
    "The cross_validate() function enables us to obtain multiple evaluation scores from the same cross-validation folds without having to repeat the computations for each score. I will include the training scores to compare with the corresponding testing scores to more easily identify overfitting."
   ]
  },
  {
   "cell_type": "code",
   "execution_count": 516,
   "id": "9cad920a",
   "metadata": {
    "execution": {
     "iopub.execute_input": "2023-08-21T04:37:23.544624Z",
     "iopub.status.busy": "2023-08-21T04:37:23.543949Z",
     "iopub.status.idle": "2023-08-21T04:37:23.784164Z",
     "shell.execute_reply": "2023-08-21T04:37:23.783371Z"
    },
    "papermill": {
     "duration": 0.290983,
     "end_time": "2023-08-21T04:37:23.786036",
     "exception": false,
     "start_time": "2023-08-21T04:37:23.495053",
     "status": "completed"
    },
    "tags": []
   },
   "outputs": [
    {
     "data": {
      "text/html": [
       "<div>\n",
       "<style scoped>\n",
       "    .dataframe tbody tr th:only-of-type {\n",
       "        vertical-align: middle;\n",
       "    }\n",
       "\n",
       "    .dataframe tbody tr th {\n",
       "        vertical-align: top;\n",
       "    }\n",
       "\n",
       "    .dataframe thead th {\n",
       "        text-align: right;\n",
       "    }\n",
       "</style>\n",
       "<table border=\"1\" class=\"dataframe\">\n",
       "  <thead>\n",
       "    <tr style=\"text-align: right;\">\n",
       "      <th></th>\n",
       "      <th>fit_time</th>\n",
       "      <th>score_time</th>\n",
       "      <th>test_accuracy</th>\n",
       "      <th>train_accuracy</th>\n",
       "      <th>test_recall</th>\n",
       "      <th>train_recall</th>\n",
       "      <th>test_precision</th>\n",
       "      <th>train_precision</th>\n",
       "      <th>test_f1</th>\n",
       "      <th>train_f1</th>\n",
       "    </tr>\n",
       "  </thead>\n",
       "  <tbody>\n",
       "    <tr>\n",
       "      <th>0</th>\n",
       "      <td>0.076</td>\n",
       "      <td>0.005</td>\n",
       "      <td>0.901</td>\n",
       "      <td>0.906</td>\n",
       "      <td>0.961</td>\n",
       "      <td>0.957</td>\n",
       "      <td>0.885</td>\n",
       "      <td>0.896</td>\n",
       "      <td>0.922</td>\n",
       "      <td>0.926</td>\n",
       "    </tr>\n",
       "    <tr>\n",
       "      <th>1</th>\n",
       "      <td>0.010</td>\n",
       "      <td>0.004</td>\n",
       "      <td>0.904</td>\n",
       "      <td>0.905</td>\n",
       "      <td>0.939</td>\n",
       "      <td>0.957</td>\n",
       "      <td>0.906</td>\n",
       "      <td>0.894</td>\n",
       "      <td>0.922</td>\n",
       "      <td>0.924</td>\n",
       "    </tr>\n",
       "    <tr>\n",
       "      <th>2</th>\n",
       "      <td>0.013</td>\n",
       "      <td>0.006</td>\n",
       "      <td>0.906</td>\n",
       "      <td>0.904</td>\n",
       "      <td>0.955</td>\n",
       "      <td>0.958</td>\n",
       "      <td>0.898</td>\n",
       "      <td>0.892</td>\n",
       "      <td>0.925</td>\n",
       "      <td>0.924</td>\n",
       "    </tr>\n",
       "    <tr>\n",
       "      <th>3</th>\n",
       "      <td>0.021</td>\n",
       "      <td>0.005</td>\n",
       "      <td>0.893</td>\n",
       "      <td>0.905</td>\n",
       "      <td>0.948</td>\n",
       "      <td>0.956</td>\n",
       "      <td>0.884</td>\n",
       "      <td>0.895</td>\n",
       "      <td>0.915</td>\n",
       "      <td>0.924</td>\n",
       "    </tr>\n",
       "    <tr>\n",
       "      <th>4</th>\n",
       "      <td>0.015</td>\n",
       "      <td>0.005</td>\n",
       "      <td>0.894</td>\n",
       "      <td>0.901</td>\n",
       "      <td>0.955</td>\n",
       "      <td>0.950</td>\n",
       "      <td>0.881</td>\n",
       "      <td>0.894</td>\n",
       "      <td>0.916</td>\n",
       "      <td>0.921</td>\n",
       "    </tr>\n",
       "  </tbody>\n",
       "</table>\n",
       "</div>"
      ],
      "text/plain": [
       "   fit_time  score_time  test_accuracy  train_accuracy  test_recall  \\\n",
       "0     0.076       0.005          0.901           0.906        0.961   \n",
       "1     0.010       0.004          0.904           0.905        0.939   \n",
       "2     0.013       0.006          0.906           0.904        0.955   \n",
       "3     0.021       0.005          0.893           0.905        0.948   \n",
       "4     0.015       0.005          0.894           0.901        0.955   \n",
       "\n",
       "   train_recall  test_precision  train_precision  test_f1  train_f1  \n",
       "0         0.957           0.885            0.896    0.922     0.926  \n",
       "1         0.957           0.906            0.894    0.922     0.924  \n",
       "2         0.958           0.898            0.892    0.925     0.924  \n",
       "3         0.956           0.884            0.895    0.915     0.924  \n",
       "4         0.950           0.881            0.894    0.916     0.921  "
      ]
     },
     "execution_count": 516,
     "metadata": {},
     "output_type": "execute_result"
    }
   ],
   "source": [
    "from sklearn.model_selection import cross_validate\n",
    "scores = cross_validate(logistic_model, X, y, cv=skf,\n",
    "                        scoring=('accuracy', 'recall', 'precision', 'f1'),\n",
    "                        return_train_score=True)\n",
    "\n",
    "logistic_scores = pd.DataFrame(scores).round(3)\n",
    "logistic_scores"
   ]
  },
  {
   "cell_type": "markdown",
   "id": "f8feaadc",
   "metadata": {
    "papermill": {
     "duration": 0.057421,
     "end_time": "2023-08-21T04:37:23.914642",
     "exception": false,
     "start_time": "2023-08-21T04:37:23.857221",
     "status": "completed"
    },
    "tags": []
   },
   "source": [
    "Display the mean values for the cross-validation fit metrics."
   ]
  },
  {
   "cell_type": "code",
   "execution_count": 517,
   "id": "ddfb67e0",
   "metadata": {
    "execution": {
     "iopub.execute_input": "2023-08-21T04:37:24.020385Z",
     "iopub.status.busy": "2023-08-21T04:37:24.020041Z",
     "iopub.status.idle": "2023-08-21T04:37:24.027097Z",
     "shell.execute_reply": "2023-08-21T04:37:24.026057Z"
    },
    "papermill": {
     "duration": 0.062046,
     "end_time": "2023-08-21T04:37:24.029017",
     "exception": false,
     "start_time": "2023-08-21T04:37:23.966971",
     "status": "completed"
    },
    "tags": []
   },
   "outputs": [
    {
     "name": "stdout",
     "output_type": "stream",
     "text": [
      "Mean of test accuracy: 0.900\n",
      "Mean of test recall: 0.952\n",
      "Mean of test precision: 0.891\n",
      "Mean of test F1: 0.920\n"
     ]
    }
   ],
   "source": [
    "print('Mean of test accuracy: %.3f' % logistic_scores['test_accuracy'].mean())\n",
    "print('Mean of test recall: %.3f' % logistic_scores['test_recall'].mean())\n",
    "print('Mean of test precision: %.3f' % logistic_scores['test_precision'].mean())\n",
    "print('Mean of test F1: %.3f' % logistic_scores['test_f1'].mean())"
   ]
  },
  {
   "cell_type": "markdown",
   "id": "48926520",
   "metadata": {
    "papermill": {
     "duration": 0.050475,
     "end_time": "2023-08-21T04:37:24.131161",
     "exception": false,
     "start_time": "2023-08-21T04:37:24.080686",
     "status": "completed"
    },
    "tags": []
   },
   "source": [
    "The result of the cross-validation with multiple hold-out samples is a slight decrease accuracy and recall, but overall no significant change in the conclusion of a good-fitting model.\n",
    "\n",
    "<u>Original fit scores:</u>  \n",
    "Accuracy for testing data: 0.907  \n",
    "Recall for testing data: 0.840  \n",
    "Precision for testing data: 0.916  \n",
    "F1 for testing data: 0.876"
   ]
  },
  {
   "cell_type": "markdown",
   "id": "c69685ee",
   "metadata": {
    "papermill": {
     "duration": 0.052573,
     "end_time": "2023-08-21T04:37:58.244660",
     "exception": false,
     "start_time": "2023-08-21T04:37:58.192087",
     "status": "completed"
    },
    "tags": []
   },
   "source": [
    "Based on the results of this analysis, the logistic regression model accurately predicts 90% of student dropouts and can be used to target communications and allocate resources to help prevent students at risk from dropping out. It is important to note that this dataset is limited to a single university and only two semesters' worth of data, and the results may not generalize to other institutions. In addition,  including student income factors, housing status (on or off campus), grade point average, employment status, and even faculty data, could be added to help improve the accuracy and reliability of the results to produce fewer false negative results. "
   ]
  }
 ],
 "metadata": {
  "kernelspec": {
   "display_name": "Python 3 (ipykernel)",
   "language": "python",
   "name": "python3"
  },
  "language_info": {
   "codemirror_mode": {
    "name": "ipython",
    "version": 3
   },
   "file_extension": ".py",
   "mimetype": "text/x-python",
   "name": "python",
   "nbconvert_exporter": "python",
   "pygments_lexer": "ipython3",
   "version": "3.11.4"
  },
  "papermill": {
   "default_parameters": {},
   "duration": 65.764747,
   "end_time": "2023-08-21T04:37:59.423680",
   "environment_variables": {},
   "exception": null,
   "input_path": "__notebook__.ipynb",
   "output_path": "__notebook__.ipynb",
   "parameters": {},
   "start_time": "2023-08-21T04:36:53.658933",
   "version": "2.4.0"
  }
 },
 "nbformat": 4,
 "nbformat_minor": 5
}
